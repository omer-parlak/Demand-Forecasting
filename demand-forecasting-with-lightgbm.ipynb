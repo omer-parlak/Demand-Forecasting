{
 "cells": [
  {
   "cell_type": "code",
   "execution_count": 1,
   "id": "db64a004",
   "metadata": {
    "_cell_guid": "b1076dfc-b9ad-4769-8c92-a6c4dae69d19",
    "_uuid": "8f2839f25d086af736a60e9eeb907d3b93b6e0e5",
    "execution": {
     "iopub.execute_input": "2022-02-11T23:46:57.175176Z",
     "iopub.status.busy": "2022-02-11T23:46:57.174506Z",
     "iopub.status.idle": "2022-02-11T23:46:57.180111Z",
     "shell.execute_reply": "2022-02-11T23:46:57.180752Z",
     "shell.execute_reply.started": "2022-02-11T22:40:42.323022Z"
    },
    "papermill": {
     "duration": 0.047863,
     "end_time": "2022-02-11T23:46:57.181044",
     "exception": false,
     "start_time": "2022-02-11T23:46:57.133181",
     "status": "completed"
    },
    "tags": []
   },
   "outputs": [
    {
     "name": "stdout",
     "output_type": "stream",
     "text": [
      "/kaggle/input/demand-forecasting-kernels-only/sample_submission.csv\n",
      "/kaggle/input/demand-forecasting-kernels-only/train.csv\n",
      "/kaggle/input/demand-forecasting-kernels-only/test.csv\n"
     ]
    }
   ],
   "source": [
    "# This Python 3 environment comes with many helpful analytics libraries installed\n",
    "# It is defined by the kaggle/python Docker image: https://github.com/kaggle/docker-python\n",
    "# For example, here's several helpful packages to load\n",
    "\n",
    "import numpy as np # linear algebra\n",
    "import pandas as pd # data processing, CSV file I/O (e.g. pd.read_csv)\n",
    "\n",
    "# Input data files are available in the read-only \"../input/\" directory\n",
    "# For example, running this (by clicking run or pressing Shift+Enter) will list all files under the input directory\n",
    "\n",
    "import os\n",
    "for dirname, _, filenames in os.walk('/kaggle/input'):\n",
    "    for filename in filenames:\n",
    "        print(os.path.join(dirname, filename))\n",
    "\n",
    "# You can write up to 20GB to the current directory (/kaggle/working/) that gets preserved as output when you create a version using \"Save & Run All\" \n",
    "# You can also write temporary files to /kaggle/temp/, but they won't be saved outside of the current session"
   ]
  },
  {
   "cell_type": "markdown",
   "id": "1ad506c2",
   "metadata": {
    "papermill": {
     "duration": 0.029623,
     "end_time": "2022-02-11T23:46:57.241070",
     "exception": false,
     "start_time": "2022-02-11T23:46:57.211447",
     "status": "completed"
    },
    "tags": []
   },
   "source": [
    "# Importing Libraries"
   ]
  },
  {
   "cell_type": "code",
   "execution_count": 2,
   "id": "64d431cf",
   "metadata": {
    "execution": {
     "iopub.execute_input": "2022-02-11T23:46:57.303456Z",
     "iopub.status.busy": "2022-02-11T23:46:57.302791Z",
     "iopub.status.idle": "2022-02-11T23:46:59.389850Z",
     "shell.execute_reply": "2022-02-11T23:46:59.388995Z",
     "shell.execute_reply.started": "2022-02-11T22:40:42.336132Z"
    },
    "papermill": {
     "duration": 2.118768,
     "end_time": "2022-02-11T23:46:59.390026",
     "exception": false,
     "start_time": "2022-02-11T23:46:57.271258",
     "status": "completed"
    },
    "tags": []
   },
   "outputs": [
    {
     "data": {
      "text/html": [
       "<style type='text/css'>\n",
       ".datatable table.frame { margin-bottom: 0; }\n",
       ".datatable table.frame thead { border-bottom: none; }\n",
       ".datatable table.frame tr.coltypes td {  color: #FFFFFF;  line-height: 6px;  padding: 0 0.5em;}\n",
       ".datatable .bool    { background: #DDDD99; }\n",
       ".datatable .object  { background: #565656; }\n",
       ".datatable .int     { background: #5D9E5D; }\n",
       ".datatable .float   { background: #4040CC; }\n",
       ".datatable .str     { background: #CC4040; }\n",
       ".datatable .time    { background: #40CC40; }\n",
       ".datatable .row_index {  background: var(--jp-border-color3);  border-right: 1px solid var(--jp-border-color0);  color: var(--jp-ui-font-color3);  font-size: 9px;}\n",
       ".datatable .frame tbody td { text-align: left; }\n",
       ".datatable .frame tr.coltypes .row_index {  background: var(--jp-border-color0);}\n",
       ".datatable th:nth-child(2) { padding-left: 12px; }\n",
       ".datatable .hellipsis {  color: var(--jp-cell-editor-border-color);}\n",
       ".datatable .vellipsis {  background: var(--jp-layout-color0);  color: var(--jp-cell-editor-border-color);}\n",
       ".datatable .na {  color: var(--jp-cell-editor-border-color);  font-size: 80%;}\n",
       ".datatable .sp {  opacity: 0.25;}\n",
       ".datatable .footer { font-size: 9px; }\n",
       ".datatable .frame_dimensions {  background: var(--jp-border-color3);  border-top: 1px solid var(--jp-border-color0);  color: var(--jp-ui-font-color3);  display: inline-block;  opacity: 0.6;  padding: 1px 10px 1px 5px;}\n",
       "</style>\n"
      ],
      "text/plain": [
       "<IPython.core.display.HTML object>"
      ]
     },
     "metadata": {},
     "output_type": "display_data"
    }
   ],
   "source": [
    "import time\n",
    "from matplotlib import pyplot as plt\n",
    "import seaborn as sns\n",
    "import lightgbm as lgb\n",
    "import warnings\n",
    "\n",
    "pd.set_option('display.max_columns', None)\n",
    "pd.set_option('display.width', 500)\n",
    "warnings.filterwarnings('ignore')"
   ]
  },
  {
   "cell_type": "markdown",
   "id": "4ca289b6",
   "metadata": {
    "papermill": {
     "duration": 0.031333,
     "end_time": "2022-02-11T23:46:59.453588",
     "exception": false,
     "start_time": "2022-02-11T23:46:59.422255",
     "status": "completed"
    },
    "tags": []
   },
   "source": [
    "# Load Data"
   ]
  },
  {
   "cell_type": "code",
   "execution_count": 3,
   "id": "9d188eec",
   "metadata": {
    "execution": {
     "iopub.execute_input": "2022-02-11T23:46:59.519966Z",
     "iopub.status.busy": "2022-02-11T23:46:59.518911Z",
     "iopub.status.idle": "2022-02-11T23:47:00.388424Z",
     "shell.execute_reply": "2022-02-11T23:47:00.387721Z",
     "shell.execute_reply.started": "2022-02-11T22:40:42.344848Z"
    },
    "papermill": {
     "duration": 0.904144,
     "end_time": "2022-02-11T23:47:00.388574",
     "exception": false,
     "start_time": "2022-02-11T23:46:59.484430",
     "status": "completed"
    },
    "tags": []
   },
   "outputs": [],
   "source": [
    "train=pd.read_csv(\"../input/demand-forecasting-kernels-only/train.csv\")\n",
    "test=pd.read_csv(\"../input/demand-forecasting-kernels-only/test.csv\")\n",
    "sample=pd.read_csv(\"../input/demand-forecasting-kernels-only/sample_submission.csv\")\n",
    "df = pd.concat([train, test], sort=False)\n",
    "df.date=pd.to_datetime(df.date)"
   ]
  },
  {
   "cell_type": "code",
   "execution_count": 4,
   "id": "5ad7e41d",
   "metadata": {
    "execution": {
     "iopub.execute_input": "2022-02-11T23:47:00.454852Z",
     "iopub.status.busy": "2022-02-11T23:47:00.453718Z",
     "iopub.status.idle": "2022-02-11T23:47:00.490316Z",
     "shell.execute_reply": "2022-02-11T23:47:00.489703Z",
     "shell.execute_reply.started": "2022-02-11T22:40:42.879814Z"
    },
    "papermill": {
     "duration": 0.070824,
     "end_time": "2022-02-11T23:47:00.490470",
     "exception": false,
     "start_time": "2022-02-11T23:47:00.419646",
     "status": "completed"
    },
    "tags": []
   },
   "outputs": [],
   "source": [
    "def check_df(dataframe, head=5):\n",
    "    print(\"##################### Shape #####################\", end=\"\\n\\n\")\n",
    "    print(dataframe.shape, end=\"\\n\\n\")\n",
    "    print(\"##################### Types #####################\", end=\"\\n\\n\")\n",
    "    print(dataframe.dtypes, end=\"\\n\\n\")\n",
    "    print(\"##################### Head #####################\", end=\"\\n\\n\")\n",
    "    print(dataframe.head(head), end=\"\\n\\n\")\n",
    "    print(\"##################### Tail #####################\", end=\"\\n\\n\")\n",
    "    print(dataframe.tail(head), end=\"\\n\\n\")\n",
    "    print(\"##################### NA #####################\", end=\"\\n\\n\")\n",
    "    print(dataframe.isnull().sum(), end=\"\\n\\n\")\n",
    "    print(\"##################### Quantiles #####################\", end=\"\\n\\n\")\n",
    "    print(dataframe.quantile([0, 0.05, 0.50, 0.95, 0.99, 1]).T, end=\"\\n\\n\")\n",
    "    \n",
    "    \n",
    "def check_df_2(dataframe, head=5):\n",
    "    print(\"##################### Shape #####################\", end=\"\\n\\n\")\n",
    "    print(dataframe.shape, end=\"\\n\\n\")\n",
    "    print(\"##################### Types #####################\", end=\"\\n\\n\")\n",
    "    print(dataframe.dtypes, end=\"\\n\\n\")\n",
    "    print(\"##################### Head #####################\", end=\"\\n\\n\")\n",
    "    print(dataframe.head(head), end=\"\\n\\n\")\n",
    "    print(\"##################### Tail #####################\", end=\"\\n\\n\")\n",
    "    print(dataframe.tail(head), end=\"\\n\\n\")\n",
    "    print(\"##################### NA #####################\", end=\"\\n\\n\")\n",
    "    print(dataframe.isnull().sum(), end=\"\\n\\n\")\n",
    "    print(\"##################### Quantiles #####################\", end=\"\\n\\n\")\n",
    "    print(dataframe.quantile([0, 0.05, 0.50, 0.95, 0.99, 1]).T, end=\"\\n\\n\")\n",
    "    print(\"##################### store-item-year-month #####################\", end=\"\\n\\n\")\n",
    "    print(dataframe.groupby([\"store\", \"item\", \"year\", \"month\"]).agg({\"sales\": [\"sum\", \"mean\", \"median\", \"std\"]}),\n",
    "          end=\"\\n\\n\")\n",
    "    print(\"##################### store-year-month #####################\", end=\"\\n\\n\")\n",
    "    print(dataframe.groupby([\"store\", \"year\", \"month\"]).agg({\"sales\": [\"sum\", \"mean\", \"median\", \"std\"]}),\n",
    "          end=\"\\n\\n\")\n",
    "    print(\"##################### item-year-month #####################\", end=\"\\n\\n\")\n",
    "    print(dataframe.groupby([\"item\", \"year\", \"month\"]).agg({\"sales\": [\"sum\", \"mean\", \"median\", \"std\"]}), \n",
    "         end=\"\\n\\n\")\n",
    "    print(\"##################### year-month #####################\", end=\"\\n\\n\")\n",
    "    print(dataframe.groupby([\"year\", \"month\"]).agg({\"sales\": [\"sum\", \"mean\", \"median\", \"std\"]}), end=\"\\n\\n\")\n",
    "    print(\"##################### year #####################\", end=\"\\n\\n\")\n",
    "    print(dataframe.groupby([\"year\"]).agg({\"sales\": [\"sum\", \"mean\", \"median\", \"std\"]}), end=\"\\n\\n\")\n",
    "    print(\"##################### month #####################\", end=\"\\n\\n\")\n",
    "    print(dataframe.groupby([\"month\"]).agg({\"sales\": [\"sum\", \"mean\", \"median\", \"std\"]}), end=\"\\n\\n\")\n",
    "    \n",
    "    \n",
    "def create_date_features(data):\n",
    "    data['month'] = data.date.dt.month\n",
    "    data['day_of_month'] = data.date.dt.day\n",
    "    data['day_of_year'] = data.date.dt.dayofyear\n",
    "    data['week_of_year'] = data.date.dt.weekofyear\n",
    "    data['day_of_week'] = data.date.dt.dayofweek\n",
    "    data['year'] = data.date.dt.year\n",
    "    data[\"is_wknd\"] = data.date.dt.weekday // 4\n",
    "    data['is_month_start'] = data.date.dt.is_month_start.astype(int)\n",
    "    data['is_month_end'] =data.date.dt.is_month_end.astype(int)\n",
    "    return data\n",
    "\n",
    "\n",
    "def lag_features(dataframe, lags):\n",
    "    for lag in lags:\n",
    "        dataframe['sales_lag_' + str(lag)] = dataframe.groupby([\"store\", \"item\"])['sales'].transform(\n",
    "            lambda x: x.shift(lag)) + random_noise(dataframe)\n",
    "    return dataframe\n",
    "\n",
    "\n",
    "def roll_mean_features(dataframe, windows):\n",
    "    for window in windows:\n",
    "        dataframe['sales_roll_mean_' + str(window)] = dataframe.groupby([\"store\", \"item\"])['sales'].transform(\n",
    "            lambda x: x.shift(1).rolling(window=window, min_periods=10, win_type=\"triang\").mean()) + random_noise(dataframe)\n",
    "    return dataframe\n",
    "\n",
    "\n",
    "def random_noise(dataframe):\n",
    "    return np.random.normal(scale=1.6, size=(len(dataframe),))\n",
    "\n",
    "\n",
    "def ewm_features(dataframe, alphas, lags):\n",
    "    for alpha in alphas:\n",
    "        for lag in lags:\n",
    "            dataframe['sales_ewm_alpha_' + str(alpha).replace(\".\", \"\") + \"_lag_\" + str(lag)] = \\\n",
    "                dataframe.groupby([\"store\", \"item\"])['sales'].transform(lambda x: x.shift(lag).ewm(alpha=alpha).mean())\n",
    "    return dataframe\n",
    "\n",
    "\n",
    "def smape(preds, target):\n",
    "    n = len(preds)\n",
    "    masked_arr = ~((preds == 0) & (target == 0))\n",
    "    preds, target = preds[masked_arr], target[masked_arr]\n",
    "    num = np.abs(preds - target)\n",
    "    denom = np.abs(preds) + np.abs(target)\n",
    "    smape_val = (200 * np.sum(num / denom)) / n\n",
    "    return smape_val\n",
    "\n",
    "\n",
    "def lgbm_smape(preds, train_data):\n",
    "    labels = train_data.get_label()\n",
    "    smape_val = smape(np.expm1(preds), np.expm1(labels))\n",
    "    return 'SMAPE', smape_val, False\n",
    "\n",
    "\n",
    "def plot_lgb_importances(model, plot=False, num=10):\n",
    "\n",
    "    gain = model.feature_importance('gain')\n",
    "    feat_imp = pd.DataFrame({'feature': model.feature_name(),\n",
    "                             'split': model.feature_importance('split'),\n",
    "                             'gain': 100 * gain / gain.sum()}).sort_values('gain', ascending=False)\n",
    "    if plot:\n",
    "        plt.figure(figsize=(10, 10))\n",
    "        sns.set(font_scale=1)\n",
    "        sns.barplot(x=\"gain\", y=\"feature\", data=feat_imp[0:25])\n",
    "        plt.title('feature')\n",
    "        plt.tight_layout()\n",
    "        plt.show()\n",
    "    else:\n",
    "        print(feat_imp.head(num))\n"
   ]
  },
  {
   "cell_type": "code",
   "execution_count": 5,
   "id": "923a675f",
   "metadata": {
    "execution": {
     "iopub.execute_input": "2022-02-11T23:47:00.559984Z",
     "iopub.status.busy": "2022-02-11T23:47:00.558990Z",
     "iopub.status.idle": "2022-02-11T23:47:00.663474Z",
     "shell.execute_reply": "2022-02-11T23:47:00.662823Z",
     "shell.execute_reply.started": "2022-02-11T22:40:42.912151Z"
    },
    "papermill": {
     "duration": 0.140899,
     "end_time": "2022-02-11T23:47:00.663619",
     "exception": false,
     "start_time": "2022-02-11T23:47:00.522720",
     "status": "completed"
    },
    "tags": []
   },
   "outputs": [
    {
     "name": "stdout",
     "output_type": "stream",
     "text": [
      "##################### Shape #####################\n",
      "\n",
      "(958000, 5)\n",
      "\n",
      "##################### Types #####################\n",
      "\n",
      "date     datetime64[ns]\n",
      "store             int64\n",
      "item              int64\n",
      "sales           float64\n",
      "id              float64\n",
      "dtype: object\n",
      "\n",
      "##################### Head #####################\n",
      "\n",
      "        date  store  item  sales  id\n",
      "0 2013-01-01      1     1   13.0 NaN\n",
      "1 2013-01-02      1     1   11.0 NaN\n",
      "2 2013-01-03      1     1   14.0 NaN\n",
      "3 2013-01-04      1     1   13.0 NaN\n",
      "4 2013-01-05      1     1   10.0 NaN\n",
      "\n",
      "##################### Tail #####################\n",
      "\n",
      "            date  store  item  sales       id\n",
      "44995 2018-03-27     10    50    NaN  44995.0\n",
      "44996 2018-03-28     10    50    NaN  44996.0\n",
      "44997 2018-03-29     10    50    NaN  44997.0\n",
      "44998 2018-03-30     10    50    NaN  44998.0\n",
      "44999 2018-03-31     10    50    NaN  44999.0\n",
      "\n",
      "##################### NA #####################\n",
      "\n",
      "date          0\n",
      "store         0\n",
      "item          0\n",
      "sales     45000\n",
      "id       913000\n",
      "dtype: int64\n",
      "\n",
      "##################### Quantiles #####################\n",
      "\n",
      "       0.00     0.05     0.50      0.95      0.99     1.00\n",
      "store   1.0     1.00      5.5     10.00     10.00     10.0\n",
      "item    1.0     3.00     25.5     48.00     50.00     50.0\n",
      "sales   0.0    16.00     47.0    107.00    135.00    231.0\n",
      "id      0.0  2249.95  22499.5  42749.05  44549.01  44999.0\n",
      "\n"
     ]
    }
   ],
   "source": [
    "check_df(df)"
   ]
  },
  {
   "cell_type": "markdown",
   "id": "70277376",
   "metadata": {
    "papermill": {
     "duration": 0.030213,
     "end_time": "2022-02-11T23:47:00.725039",
     "exception": false,
     "start_time": "2022-02-11T23:47:00.694826",
     "status": "completed"
    },
    "tags": []
   },
   "source": [
    "# Feature Engineering"
   ]
  },
  {
   "cell_type": "code",
   "execution_count": 6,
   "id": "7be5410b",
   "metadata": {
    "execution": {
     "iopub.execute_input": "2022-02-11T23:47:00.793127Z",
     "iopub.status.busy": "2022-02-11T23:47:00.792204Z",
     "iopub.status.idle": "2022-02-11T23:47:01.904311Z",
     "shell.execute_reply": "2022-02-11T23:47:01.903568Z",
     "shell.execute_reply.started": "2022-02-11T22:40:42.996672Z"
    },
    "papermill": {
     "duration": 1.147973,
     "end_time": "2022-02-11T23:47:01.904464",
     "exception": false,
     "start_time": "2022-02-11T23:47:00.756491",
     "status": "completed"
    },
    "tags": []
   },
   "outputs": [],
   "source": [
    "df = create_date_features(df)"
   ]
  },
  {
   "cell_type": "code",
   "execution_count": 7,
   "id": "c2393f94",
   "metadata": {
    "execution": {
     "iopub.execute_input": "2022-02-11T23:47:01.984061Z",
     "iopub.status.busy": "2022-02-11T23:47:01.982797Z",
     "iopub.status.idle": "2022-02-11T23:47:02.825215Z",
     "shell.execute_reply": "2022-02-11T23:47:02.824701Z",
     "shell.execute_reply.started": "2022-02-11T22:40:43.903299Z"
    },
    "papermill": {
     "duration": 0.88963,
     "end_time": "2022-02-11T23:47:02.825393",
     "exception": false,
     "start_time": "2022-02-11T23:47:01.935763",
     "status": "completed"
    },
    "tags": []
   },
   "outputs": [
    {
     "name": "stdout",
     "output_type": "stream",
     "text": [
      "##################### Shape #####################\n",
      "\n",
      "(958000, 14)\n",
      "\n",
      "##################### Types #####################\n",
      "\n",
      "date              datetime64[ns]\n",
      "store                      int64\n",
      "item                       int64\n",
      "sales                    float64\n",
      "id                       float64\n",
      "month                      int64\n",
      "day_of_month               int64\n",
      "day_of_year                int64\n",
      "week_of_year               int64\n",
      "day_of_week                int64\n",
      "year                       int64\n",
      "is_wknd                    int64\n",
      "is_month_start             int64\n",
      "is_month_end               int64\n",
      "dtype: object\n",
      "\n",
      "##################### Head #####################\n",
      "\n",
      "        date  store  item  sales  id  month  day_of_month  day_of_year  week_of_year  day_of_week  year  is_wknd  is_month_start  is_month_end\n",
      "0 2013-01-01      1     1   13.0 NaN      1             1            1             1            1  2013        0               1             0\n",
      "1 2013-01-02      1     1   11.0 NaN      1             2            2             1            2  2013        0               0             0\n",
      "2 2013-01-03      1     1   14.0 NaN      1             3            3             1            3  2013        0               0             0\n",
      "3 2013-01-04      1     1   13.0 NaN      1             4            4             1            4  2013        1               0             0\n",
      "4 2013-01-05      1     1   10.0 NaN      1             5            5             1            5  2013        1               0             0\n",
      "\n",
      "##################### Tail #####################\n",
      "\n",
      "            date  store  item  sales       id  month  day_of_month  day_of_year  week_of_year  day_of_week  year  is_wknd  is_month_start  is_month_end\n",
      "44995 2018-03-27     10    50    NaN  44995.0      3            27           86            13            1  2018        0               0             0\n",
      "44996 2018-03-28     10    50    NaN  44996.0      3            28           87            13            2  2018        0               0             0\n",
      "44997 2018-03-29     10    50    NaN  44997.0      3            29           88            13            3  2018        0               0             0\n",
      "44998 2018-03-30     10    50    NaN  44998.0      3            30           89            13            4  2018        1               0             0\n",
      "44999 2018-03-31     10    50    NaN  44999.0      3            31           90            13            5  2018        1               0             1\n",
      "\n",
      "##################### NA #####################\n",
      "\n",
      "date                   0\n",
      "store                  0\n",
      "item                   0\n",
      "sales              45000\n",
      "id                913000\n",
      "month                  0\n",
      "day_of_month           0\n",
      "day_of_year            0\n",
      "week_of_year           0\n",
      "day_of_week            0\n",
      "year                   0\n",
      "is_wknd                0\n",
      "is_month_start         0\n",
      "is_month_end           0\n",
      "dtype: int64\n",
      "\n",
      "##################### Quantiles #####################\n",
      "\n",
      "                  0.00     0.05     0.50      0.95      0.99     1.00\n",
      "store              1.0     1.00      5.5     10.00     10.00     10.0\n",
      "item               1.0     3.00     25.5     48.00     50.00     50.0\n",
      "sales              0.0    16.00     47.0    107.00    135.00    231.0\n",
      "id                 0.0  2249.95  22499.5  42749.05  44549.01  44999.0\n",
      "month              1.0     1.00      6.0     12.00     12.00     12.0\n",
      "day_of_month       1.0     2.00     16.0     29.00     31.00     31.0\n",
      "day_of_year        1.0    16.00    174.0    347.00    362.00    366.0\n",
      "week_of_year       1.0     3.00     25.0     50.00     52.00     53.0\n",
      "day_of_week        0.0     0.00      3.0      6.00      6.00      6.0\n",
      "year            2013.0  2013.00   2015.0   2017.00   2018.00   2018.0\n",
      "is_wknd            0.0     0.00      0.0      1.00      1.00      1.0\n",
      "is_month_start     0.0     0.00      0.0      0.00      1.00      1.0\n",
      "is_month_end       0.0     0.00      0.0      0.00      1.00      1.0\n",
      "\n",
      "##################### store-item-year-month #####################\n",
      "\n",
      "                        sales                             \n",
      "                          sum       mean median        std\n",
      "store item year month                                     \n",
      "1     1    2013 1       328.0  10.580645   10.0   3.085171\n",
      "                2       322.0  11.500000   11.0   3.048983\n",
      "                3       477.0  15.387097   15.0   3.537206\n",
      "                4       522.0  17.400000   18.0   4.295948\n",
      "                5       531.0  17.129032   16.0   5.327551\n",
      "...                       ...        ...    ...        ...\n",
      "10    50   2017 11     2574.0  85.800000   81.5  14.653233\n",
      "                12     1987.0  64.096774   66.0  10.428662\n",
      "           2018 1         0.0        NaN    NaN        NaN\n",
      "                2         0.0        NaN    NaN        NaN\n",
      "                3         0.0        NaN    NaN        NaN\n",
      "\n",
      "[31500 rows x 4 columns]\n",
      "\n",
      "##################### store-year-month #####################\n",
      "\n",
      "                     sales                             \n",
      "                       sum       mean median        std\n",
      "store year month                                       \n",
      "1     2013 1       41077.0  26.501290   25.0  12.491378\n",
      "           2       41306.0  29.504286   28.0  14.070281\n",
      "           3       55827.0  36.017419   34.0  16.617959\n",
      "           4       61523.0  41.015333   40.0  18.816778\n",
      "           5       69272.0  44.691613   43.0  20.407764\n",
      "...                    ...        ...    ...        ...\n",
      "10    2017 11     103815.0  69.210000   68.0  30.992745\n",
      "           12      77850.0  50.225806   49.0  22.801739\n",
      "      2018 1           0.0        NaN    NaN        NaN\n",
      "           2           0.0        NaN    NaN        NaN\n",
      "           3           0.0        NaN    NaN        NaN\n",
      "\n",
      "[630 rows x 4 columns]\n",
      "\n",
      "##################### item-year-month #####################\n",
      "\n",
      "                   sales                             \n",
      "                     sum       mean median        std\n",
      "item year month                                      \n",
      "1    2013 1       3794.0  12.238710   12.0   4.572443\n",
      "          2       3863.0  13.796429   13.0   4.839131\n",
      "          3       5190.0  16.741935   16.0   5.256328\n",
      "          4       5783.0  19.276667   19.0   6.316628\n",
      "          5       6298.0  20.316129   20.0   6.879221\n",
      "...                  ...        ...    ...        ...\n",
      "50   2017 11     23293.0  77.643333   79.0  19.353846\n",
      "          12     17278.0  55.735484   55.0  15.297091\n",
      "     2018 1          0.0        NaN    NaN        NaN\n",
      "          2          0.0        NaN    NaN        NaN\n",
      "          3          0.0        NaN    NaN        NaN\n",
      "\n",
      "[3150 rows x 4 columns]\n",
      "\n",
      "##################### year-month #####################\n",
      "\n",
      "               sales                             \n",
      "                 sum       mean median        std\n",
      "year month                                       \n",
      "2013 1      454904.0  29.348645   27.0  15.087507\n",
      "     2      459417.0  32.815500   30.0  16.824119\n",
      "     3      617382.0  39.831097   37.0  20.167826\n",
      "     4      682274.0  45.484933   42.0  22.898429\n",
      "     5      763242.0  49.241419   46.0  24.630070\n",
      "...              ...        ...    ...        ...\n",
      "2017 11     928837.0  61.922467   58.0  30.712178\n",
      "     12     695170.0  44.849677   42.0  22.617654\n",
      "2018 1           0.0        NaN    NaN        NaN\n",
      "     2           0.0        NaN    NaN        NaN\n",
      "     3           0.0        NaN    NaN        NaN\n",
      "\n",
      "[63 rows x 4 columns]\n",
      "\n",
      "##################### year #####################\n",
      "\n",
      "           sales                             \n",
      "             sum       mean median        std\n",
      "year                                         \n",
      "2013   7941243.0  43.513660   39.0  23.625533\n",
      "2014   9135482.0  50.057436   45.0  27.042215\n",
      "2015   9536887.0  52.256915   47.0  28.158359\n",
      "2016  10357160.0  56.596503   51.0  30.433444\n",
      "2017  10733740.0  58.815014   53.0  31.552697\n",
      "2018         0.0        NaN    NaN        NaN\n",
      "\n",
      "##################### month #####################\n",
      "\n",
      "           sales                             \n",
      "             sum       mean median        std\n",
      "month                                        \n",
      "1      2753149.0  35.524503   33.0  18.508468\n",
      "2      2776177.0  39.378397   36.0  20.444393\n",
      "3      3666182.0  47.305574   44.0  24.269264\n",
      "4      4136467.0  55.152893   51.0  28.297197\n",
      "5      4582437.0  59.128219   55.0  30.102166\n",
      "6      4726911.0  63.025480   58.0  32.025829\n",
      "7      5192393.0  66.998619   62.0  34.133458\n",
      "8      4580655.0  59.105226   55.0  30.084162\n",
      "9      4130457.0  55.072760   51.0  28.168197\n",
      "10     3967520.0  51.193806   47.0  26.316421\n",
      "11     4141356.0  55.218080   51.0  28.154336\n",
      "12     3050808.0  39.365265   36.0  20.458646\n",
      "\n"
     ]
    }
   ],
   "source": [
    "check_df_2(df)"
   ]
  },
  {
   "cell_type": "markdown",
   "id": "fc40c47e",
   "metadata": {
    "papermill": {
     "duration": 0.032125,
     "end_time": "2022-02-11T23:47:02.891465",
     "exception": false,
     "start_time": "2022-02-11T23:47:02.859340",
     "status": "completed"
    },
    "tags": []
   },
   "source": [
    "# Lag/Shifted Features"
   ]
  },
  {
   "cell_type": "code",
   "execution_count": 8,
   "id": "d409553a",
   "metadata": {
    "execution": {
     "iopub.execute_input": "2022-02-11T23:47:02.963957Z",
     "iopub.status.busy": "2022-02-11T23:47:02.962885Z",
     "iopub.status.idle": "2022-02-11T23:47:05.736332Z",
     "shell.execute_reply": "2022-02-11T23:47:05.736935Z",
     "shell.execute_reply.started": "2022-02-11T22:40:44.569041Z"
    },
    "papermill": {
     "duration": 2.813438,
     "end_time": "2022-02-11T23:47:05.737111",
     "exception": false,
     "start_time": "2022-02-11T23:47:02.923673",
     "status": "completed"
    },
    "tags": []
   },
   "outputs": [],
   "source": [
    "df.sort_values(by=['store', 'item', 'date'], axis=0, inplace=True)\n",
    "lags = [91, 98, 105, 112, 119, 126, 182, 238, 364, 455, 546, 728]\n",
    "df = lag_features(df, lags)"
   ]
  },
  {
   "cell_type": "markdown",
   "id": "1aada4b0",
   "metadata": {
    "papermill": {
     "duration": 0.031452,
     "end_time": "2022-02-11T23:47:05.800399",
     "exception": false,
     "start_time": "2022-02-11T23:47:05.768947",
     "status": "completed"
    },
    "tags": []
   },
   "source": [
    "# Rolling Mean Features"
   ]
  },
  {
   "cell_type": "code",
   "execution_count": 9,
   "id": "0cb55c68",
   "metadata": {
    "execution": {
     "iopub.execute_input": "2022-02-11T23:47:05.870714Z",
     "iopub.status.busy": "2022-02-11T23:47:05.869995Z",
     "iopub.status.idle": "2022-02-11T23:47:09.453526Z",
     "shell.execute_reply": "2022-02-11T23:47:09.452904Z",
     "shell.execute_reply.started": "2022-02-11T22:40:46.799659Z"
    },
    "papermill": {
     "duration": 3.621032,
     "end_time": "2022-02-11T23:47:09.453675",
     "exception": false,
     "start_time": "2022-02-11T23:47:05.832643",
     "status": "completed"
    },
    "tags": []
   },
   "outputs": [],
   "source": [
    "windows = [121, 181, 365, 546]\n",
    "df = roll_mean_features(df, windows )"
   ]
  },
  {
   "cell_type": "markdown",
   "id": "49fe7d2a",
   "metadata": {
    "papermill": {
     "duration": 0.032271,
     "end_time": "2022-02-11T23:47:09.518989",
     "exception": false,
     "start_time": "2022-02-11T23:47:09.486718",
     "status": "completed"
    },
    "tags": []
   },
   "source": [
    "# Exponentially Weighted Mean Features"
   ]
  },
  {
   "cell_type": "code",
   "execution_count": 10,
   "id": "720c9d32",
   "metadata": {
    "execution": {
     "iopub.execute_input": "2022-02-11T23:47:09.591584Z",
     "iopub.status.busy": "2022-02-11T23:47:09.590931Z",
     "iopub.status.idle": "2022-02-11T23:47:29.757799Z",
     "shell.execute_reply": "2022-02-11T23:47:29.758382Z",
     "shell.execute_reply.started": "2022-02-11T22:40:49.883029Z"
    },
    "papermill": {
     "duration": 20.20662,
     "end_time": "2022-02-11T23:47:29.758573",
     "exception": false,
     "start_time": "2022-02-11T23:47:09.551953",
     "status": "completed"
    },
    "tags": []
   },
   "outputs": [],
   "source": [
    "alphas = [0.99, 0.95, 0.9, 0.8, 0.7, 0.5]\n",
    "lags = [91, 98, 105, 112, 119, 126, 182, 238, 364, 455, 546, 728]\n",
    "df = ewm_features(df, alphas, lags)"
   ]
  },
  {
   "cell_type": "code",
   "execution_count": 11,
   "id": "04bd496a",
   "metadata": {
    "execution": {
     "iopub.execute_input": "2022-02-11T23:47:29.838741Z",
     "iopub.status.busy": "2022-02-11T23:47:29.837683Z",
     "iopub.status.idle": "2022-02-11T23:47:32.282089Z",
     "shell.execute_reply": "2022-02-11T23:47:32.282715Z",
     "shell.execute_reply.started": "2022-02-11T22:41:07.172658Z"
    },
    "papermill": {
     "duration": 2.48872,
     "end_time": "2022-02-11T23:47:32.282894",
     "exception": false,
     "start_time": "2022-02-11T23:47:29.794174",
     "status": "completed"
    },
    "tags": []
   },
   "outputs": [
    {
     "name": "stdout",
     "output_type": "stream",
     "text": [
      "##################### Shape #####################\n",
      "\n",
      "(958000, 102)\n",
      "\n",
      "##################### Types #####################\n",
      "\n",
      "date                          datetime64[ns]\n",
      "store                                  int64\n",
      "item                                   int64\n",
      "sales                                float64\n",
      "id                                   float64\n",
      "                                   ...      \n",
      "sales_ewm_alpha_05_lag_238           float64\n",
      "sales_ewm_alpha_05_lag_364           float64\n",
      "sales_ewm_alpha_05_lag_455           float64\n",
      "sales_ewm_alpha_05_lag_546           float64\n",
      "sales_ewm_alpha_05_lag_728           float64\n",
      "Length: 102, dtype: object\n",
      "\n",
      "##################### Head #####################\n",
      "\n",
      "        date  store  item  sales  id  month  day_of_month  day_of_year  week_of_year  day_of_week  year  is_wknd  is_month_start  is_month_end  sales_lag_91  sales_lag_98  sales_lag_105  sales_lag_112  sales_lag_119  sales_lag_126  sales_lag_182  sales_lag_238  sales_lag_364  sales_lag_455  sales_lag_546  sales_lag_728  sales_roll_mean_121  sales_roll_mean_181  sales_roll_mean_365  sales_roll_mean_546  sales_ewm_alpha_099_lag_91  sales_ewm_alpha_099_lag_98  sales_ewm_alpha_099_lag_105  \\\n",
      "0 2013-01-01      1     1   13.0 NaN      1             1            1             1            1  2013        0               1             0           NaN           NaN            NaN            NaN            NaN            NaN            NaN            NaN            NaN            NaN            NaN            NaN                  NaN                  NaN                  NaN                  NaN                         NaN                         NaN                          NaN   \n",
      "1 2013-01-02      1     1   11.0 NaN      1             2            2             1            2  2013        0               0             0           NaN           NaN            NaN            NaN            NaN            NaN            NaN            NaN            NaN            NaN            NaN            NaN                  NaN                  NaN                  NaN                  NaN                         NaN                         NaN                          NaN   \n",
      "2 2013-01-03      1     1   14.0 NaN      1             3            3             1            3  2013        0               0             0           NaN           NaN            NaN            NaN            NaN            NaN            NaN            NaN            NaN            NaN            NaN            NaN                  NaN                  NaN                  NaN                  NaN                         NaN                         NaN                          NaN   \n",
      "3 2013-01-04      1     1   13.0 NaN      1             4            4             1            4  2013        1               0             0           NaN           NaN            NaN            NaN            NaN            NaN            NaN            NaN            NaN            NaN            NaN            NaN                  NaN                  NaN                  NaN                  NaN                         NaN                         NaN                          NaN   \n",
      "4 2013-01-05      1     1   10.0 NaN      1             5            5             1            5  2013        1               0             0           NaN           NaN            NaN            NaN            NaN            NaN            NaN            NaN            NaN            NaN            NaN            NaN                  NaN                  NaN                  NaN                  NaN                         NaN                         NaN                          NaN   \n",
      "\n",
      "   sales_ewm_alpha_099_lag_112  sales_ewm_alpha_099_lag_119  sales_ewm_alpha_099_lag_126  sales_ewm_alpha_099_lag_182  sales_ewm_alpha_099_lag_238  sales_ewm_alpha_099_lag_364  sales_ewm_alpha_099_lag_455  sales_ewm_alpha_099_lag_546  sales_ewm_alpha_099_lag_728  sales_ewm_alpha_095_lag_91  sales_ewm_alpha_095_lag_98  sales_ewm_alpha_095_lag_105  sales_ewm_alpha_095_lag_112  sales_ewm_alpha_095_lag_119  sales_ewm_alpha_095_lag_126  sales_ewm_alpha_095_lag_182  sales_ewm_alpha_095_lag_238  \\\n",
      "0                          NaN                          NaN                          NaN                          NaN                          NaN                          NaN                          NaN                          NaN                          NaN                         NaN                         NaN                          NaN                          NaN                          NaN                          NaN                          NaN                          NaN   \n",
      "1                          NaN                          NaN                          NaN                          NaN                          NaN                          NaN                          NaN                          NaN                          NaN                         NaN                         NaN                          NaN                          NaN                          NaN                          NaN                          NaN                          NaN   \n",
      "2                          NaN                          NaN                          NaN                          NaN                          NaN                          NaN                          NaN                          NaN                          NaN                         NaN                         NaN                          NaN                          NaN                          NaN                          NaN                          NaN                          NaN   \n",
      "3                          NaN                          NaN                          NaN                          NaN                          NaN                          NaN                          NaN                          NaN                          NaN                         NaN                         NaN                          NaN                          NaN                          NaN                          NaN                          NaN                          NaN   \n",
      "4                          NaN                          NaN                          NaN                          NaN                          NaN                          NaN                          NaN                          NaN                          NaN                         NaN                         NaN                          NaN                          NaN                          NaN                          NaN                          NaN                          NaN   \n",
      "\n",
      "   sales_ewm_alpha_095_lag_364  sales_ewm_alpha_095_lag_455  sales_ewm_alpha_095_lag_546  sales_ewm_alpha_095_lag_728  sales_ewm_alpha_09_lag_91  sales_ewm_alpha_09_lag_98  sales_ewm_alpha_09_lag_105  sales_ewm_alpha_09_lag_112  sales_ewm_alpha_09_lag_119  sales_ewm_alpha_09_lag_126  sales_ewm_alpha_09_lag_182  sales_ewm_alpha_09_lag_238  sales_ewm_alpha_09_lag_364  sales_ewm_alpha_09_lag_455  sales_ewm_alpha_09_lag_546  sales_ewm_alpha_09_lag_728  sales_ewm_alpha_08_lag_91  \\\n",
      "0                          NaN                          NaN                          NaN                          NaN                        NaN                        NaN                         NaN                         NaN                         NaN                         NaN                         NaN                         NaN                         NaN                         NaN                         NaN                         NaN                        NaN   \n",
      "1                          NaN                          NaN                          NaN                          NaN                        NaN                        NaN                         NaN                         NaN                         NaN                         NaN                         NaN                         NaN                         NaN                         NaN                         NaN                         NaN                        NaN   \n",
      "2                          NaN                          NaN                          NaN                          NaN                        NaN                        NaN                         NaN                         NaN                         NaN                         NaN                         NaN                         NaN                         NaN                         NaN                         NaN                         NaN                        NaN   \n",
      "3                          NaN                          NaN                          NaN                          NaN                        NaN                        NaN                         NaN                         NaN                         NaN                         NaN                         NaN                         NaN                         NaN                         NaN                         NaN                         NaN                        NaN   \n",
      "4                          NaN                          NaN                          NaN                          NaN                        NaN                        NaN                         NaN                         NaN                         NaN                         NaN                         NaN                         NaN                         NaN                         NaN                         NaN                         NaN                        NaN   \n",
      "\n",
      "   sales_ewm_alpha_08_lag_98  sales_ewm_alpha_08_lag_105  sales_ewm_alpha_08_lag_112  sales_ewm_alpha_08_lag_119  sales_ewm_alpha_08_lag_126  sales_ewm_alpha_08_lag_182  sales_ewm_alpha_08_lag_238  sales_ewm_alpha_08_lag_364  sales_ewm_alpha_08_lag_455  sales_ewm_alpha_08_lag_546  sales_ewm_alpha_08_lag_728  sales_ewm_alpha_07_lag_91  sales_ewm_alpha_07_lag_98  sales_ewm_alpha_07_lag_105  sales_ewm_alpha_07_lag_112  sales_ewm_alpha_07_lag_119  sales_ewm_alpha_07_lag_126  \\\n",
      "0                        NaN                         NaN                         NaN                         NaN                         NaN                         NaN                         NaN                         NaN                         NaN                         NaN                         NaN                        NaN                        NaN                         NaN                         NaN                         NaN                         NaN   \n",
      "1                        NaN                         NaN                         NaN                         NaN                         NaN                         NaN                         NaN                         NaN                         NaN                         NaN                         NaN                        NaN                        NaN                         NaN                         NaN                         NaN                         NaN   \n",
      "2                        NaN                         NaN                         NaN                         NaN                         NaN                         NaN                         NaN                         NaN                         NaN                         NaN                         NaN                        NaN                        NaN                         NaN                         NaN                         NaN                         NaN   \n",
      "3                        NaN                         NaN                         NaN                         NaN                         NaN                         NaN                         NaN                         NaN                         NaN                         NaN                         NaN                        NaN                        NaN                         NaN                         NaN                         NaN                         NaN   \n",
      "4                        NaN                         NaN                         NaN                         NaN                         NaN                         NaN                         NaN                         NaN                         NaN                         NaN                         NaN                        NaN                        NaN                         NaN                         NaN                         NaN                         NaN   \n",
      "\n",
      "   sales_ewm_alpha_07_lag_182  sales_ewm_alpha_07_lag_238  sales_ewm_alpha_07_lag_364  sales_ewm_alpha_07_lag_455  sales_ewm_alpha_07_lag_546  sales_ewm_alpha_07_lag_728  sales_ewm_alpha_05_lag_91  sales_ewm_alpha_05_lag_98  sales_ewm_alpha_05_lag_105  sales_ewm_alpha_05_lag_112  sales_ewm_alpha_05_lag_119  sales_ewm_alpha_05_lag_126  sales_ewm_alpha_05_lag_182  sales_ewm_alpha_05_lag_238  sales_ewm_alpha_05_lag_364  sales_ewm_alpha_05_lag_455  sales_ewm_alpha_05_lag_546  \\\n",
      "0                         NaN                         NaN                         NaN                         NaN                         NaN                         NaN                        NaN                        NaN                         NaN                         NaN                         NaN                         NaN                         NaN                         NaN                         NaN                         NaN                         NaN   \n",
      "1                         NaN                         NaN                         NaN                         NaN                         NaN                         NaN                        NaN                        NaN                         NaN                         NaN                         NaN                         NaN                         NaN                         NaN                         NaN                         NaN                         NaN   \n",
      "2                         NaN                         NaN                         NaN                         NaN                         NaN                         NaN                        NaN                        NaN                         NaN                         NaN                         NaN                         NaN                         NaN                         NaN                         NaN                         NaN                         NaN   \n",
      "3                         NaN                         NaN                         NaN                         NaN                         NaN                         NaN                        NaN                        NaN                         NaN                         NaN                         NaN                         NaN                         NaN                         NaN                         NaN                         NaN                         NaN   \n",
      "4                         NaN                         NaN                         NaN                         NaN                         NaN                         NaN                        NaN                        NaN                         NaN                         NaN                         NaN                         NaN                         NaN                         NaN                         NaN                         NaN                         NaN   \n",
      "\n",
      "   sales_ewm_alpha_05_lag_728  \n",
      "0                         NaN  \n",
      "1                         NaN  \n",
      "2                         NaN  \n",
      "3                         NaN  \n",
      "4                         NaN  \n",
      "\n",
      "##################### Tail #####################\n",
      "\n",
      "            date  store  item  sales       id  month  day_of_month  day_of_year  week_of_year  day_of_week  year  is_wknd  is_month_start  is_month_end  sales_lag_91  sales_lag_98  sales_lag_105  sales_lag_112  sales_lag_119  sales_lag_126  sales_lag_182  sales_lag_238  sales_lag_364  sales_lag_455  sales_lag_546  sales_lag_728  sales_roll_mean_121  sales_roll_mean_181  sales_roll_mean_365  sales_roll_mean_546  sales_ewm_alpha_099_lag_91  sales_ewm_alpha_099_lag_98  \\\n",
      "44995 2018-03-27     10    50    NaN  44995.0      3            27           86            13            1  2018        0               0             0     40.403579     54.646580      66.293359      69.939826      67.309348      80.235250      81.007283      80.959394      58.958765      60.180625      96.390502      72.637230            64.223293            72.909023            88.593063            86.742067                   41.102494                   53.993266   \n",
      "44996 2018-03-28     10    50    NaN  44996.0      3            28           87            13            2  2018        0               0             0     63.046196     51.674917      64.934866      60.054730      76.048559      80.172869      82.340860      90.143812      71.625000      45.050047      80.598772      67.026963            61.733030            72.461447            86.498015            86.832987                   62.781025                   51.029933   \n",
      "44997 2018-03-29     10    50    NaN  44997.0      3            29           88            13            3  2018        0               0             0     58.907122     61.583795      71.295947      67.711210      73.870380      89.105370      83.669904      90.265665      69.049607      67.889832     100.819017      77.073362            62.861824            73.382915            84.648671            85.416328                   59.037810                   62.880299   \n",
      "44998 2018-03-30     10    50    NaN  44998.0      3            30           89            13            4  2018        1               0             0     74.162069     75.113946      72.724546      69.462129      63.216853      80.655874      90.449171      99.754909      71.280651      63.190364      77.951426      84.772174            64.545912            73.545344            87.542393            85.445288                   73.850378                   74.878803   \n",
      "44999 2018-03-31     10    50    NaN  44999.0      3            31           90            13            5  2018        1               0             1     60.021575     69.084264      53.641340      67.447934      46.973738      78.314102     102.046642     109.811040     101.529569      63.511324      95.267820      80.834058            66.334911            70.758347            87.997287            87.027626                   62.118504                   70.048788   \n",
      "\n",
      "       sales_ewm_alpha_099_lag_105  sales_ewm_alpha_099_lag_112  sales_ewm_alpha_099_lag_119  sales_ewm_alpha_099_lag_126  sales_ewm_alpha_099_lag_182  sales_ewm_alpha_099_lag_238  sales_ewm_alpha_099_lag_364  sales_ewm_alpha_099_lag_455  sales_ewm_alpha_099_lag_546  sales_ewm_alpha_099_lag_728  sales_ewm_alpha_095_lag_91  sales_ewm_alpha_095_lag_98  sales_ewm_alpha_095_lag_105  sales_ewm_alpha_095_lag_112  sales_ewm_alpha_095_lag_119  sales_ewm_alpha_095_lag_126  sales_ewm_alpha_095_lag_182  \\\n",
      "44995                    66.871500                    67.862074                    68.073765                    80.812611                    78.843598                    80.111915                    60.061498                    60.010301                    96.496783                    72.783196                   41.561777                   54.028375                    66.387487                    67.349358                    68.440646                    80.116347                    78.289747   \n",
      "44996                    66.998715                    60.078621                    75.920738                    80.998126                    79.988436                    88.911119                    72.870615                    43.170103                    80.164968                    68.047832                   61.928089                   51.151419                    66.969374                    60.367468                    75.622032                    80.955817                    79.914487   \n",
      "44997                    71.949987                    65.940786                    73.029207                    86.939981                    81.979884                    88.999111                    68.048706                    67.751701                    98.811650                    74.930478                   59.146404                   62.407571                    71.748469                    65.718373                    73.131102                    86.697791                    81.895724   \n",
      "44998                    71.999500                    66.989408                    66.070292                    81.059400                    89.919799                    98.899991                    68.990487                    63.047517                    79.198116                    82.919305                   73.257320                   74.370379                    71.987423                    66.935919                    66.356555                    81.284890                    89.594786   \n",
      "44999                    52.199995                    68.979894                    49.170703                    78.030594                   102.869198                   109.889000                   100.679905                    63.990475                    96.821981                    82.009193                   62.562866                   70.218519                    52.999371                    68.896796                    49.867828                    78.164244                   102.329739   \n",
      "\n",
      "       sales_ewm_alpha_095_lag_238  sales_ewm_alpha_095_lag_364  sales_ewm_alpha_095_lag_455  sales_ewm_alpha_095_lag_546  sales_ewm_alpha_095_lag_728  sales_ewm_alpha_09_lag_91  sales_ewm_alpha_09_lag_98  sales_ewm_alpha_09_lag_105  sales_ewm_alpha_09_lag_112  sales_ewm_alpha_09_lag_119  sales_ewm_alpha_09_lag_126  sales_ewm_alpha_09_lag_182  sales_ewm_alpha_09_lag_238  sales_ewm_alpha_09_lag_364  sales_ewm_alpha_09_lag_455  sales_ewm_alpha_09_lag_546  sales_ewm_alpha_09_lag_728  \\\n",
      "44995                    80.599308                    60.337210                    60.057616                    94.617783                    71.979468                  42.244368                  54.197995                   65.849785                   66.785772                   69.045354                   79.370493                   77.757904                   81.303862                   60.747330                   60.130827                   92.561560                   71.115472   \n",
      "44996                    88.579965                    72.366861                    43.852881                    80.730889                    68.198973                  60.924437                  51.319799                   66.884978                   60.678577                   75.304535                   80.837049                   79.775790                   88.230386                   71.774733                   44.713083                   81.256156                   68.311547   \n",
      "44997                    88.978998                    68.218343                    66.792644                    98.086544                    74.659949                  59.192444                  61.831980                   71.488498                   65.467858                   73.230454                   86.383705                   81.777579                   88.923039                   68.377473                   65.671308                   97.225616                   74.331155   \n",
      "44998                    98.498950                    68.960917                    63.189632                    79.954327                    82.582997                  72.519244                  73.683198                   71.948850                   66.846786                   66.723045                   81.538370                   89.177758                   97.992304                   68.937747                   63.267131                   80.822562                   82.133115   \n",
      "44999                   109.424947                    99.398046                    63.959482                    96.147716                    82.029150                  63.051924                  70.368320                   53.994885                   68.784679                   50.772305                   78.353837                  101.617776                  108.799230                   97.793775                   63.926713                   95.382256                   82.013312   \n",
      "\n",
      "       sales_ewm_alpha_08_lag_91  sales_ewm_alpha_08_lag_98  sales_ewm_alpha_08_lag_105  sales_ewm_alpha_08_lag_112  sales_ewm_alpha_08_lag_119  sales_ewm_alpha_08_lag_126  sales_ewm_alpha_08_lag_182  sales_ewm_alpha_08_lag_238  sales_ewm_alpha_08_lag_364  sales_ewm_alpha_08_lag_455  sales_ewm_alpha_08_lag_546  sales_ewm_alpha_08_lag_728  sales_ewm_alpha_07_lag_91  sales_ewm_alpha_07_lag_98  sales_ewm_alpha_07_lag_105  sales_ewm_alpha_07_lag_112  sales_ewm_alpha_07_lag_119  \\\n",
      "44995                  43.955442                  54.879654                   64.996171                   65.861563                   70.646302                   78.318176                   77.220469                   83.059024                   61.771911                   60.324250                   89.361543                   69.838571                  46.091666                  55.909793                   64.428121                   65.144155                   72.608823   \n",
      "44996                  59.191088                  51.775931                   66.599234                   61.172313                   74.929260                   80.463635                   79.444094                   87.811805                   70.754382                   46.464850                   81.872309                   68.367714                  57.927500                  52.472938                   66.228436                   61.543247                   74.982647   \n",
      "44997                  59.038218                  60.755186                   70.919847                   65.034463                   73.385852                   85.692727                   81.488819                   88.762361                   68.550876                   63.692970                   95.574462                   73.673543                  58.678250                  59.841881                   70.268531                   64.662974                   73.594794   \n",
      "44998                  71.007644                  72.151037                   71.783969                   66.606893                   67.477170                   81.938545                   88.297764                   96.952472                   68.910175                   63.138594                   82.314892                   81.134709                  69.403475                  70.452564                   71.480559                   66.298892                   68.278438   \n",
      "44999                  63.801529                  70.430207                   55.956794                   68.521379                   52.695434                   78.787709                  100.059553                  107.390494                   94.582035                   63.827719                   94.062978                   81.826942                  64.221042                  70.135769                   57.844168                   68.189668                   54.783531   \n",
      "\n",
      "       sales_ewm_alpha_07_lag_126  sales_ewm_alpha_07_lag_182  sales_ewm_alpha_07_lag_238  sales_ewm_alpha_07_lag_364  sales_ewm_alpha_07_lag_455  sales_ewm_alpha_07_lag_546  sales_ewm_alpha_07_lag_728  sales_ewm_alpha_05_lag_91  sales_ewm_alpha_05_lag_98  sales_ewm_alpha_05_lag_105  sales_ewm_alpha_05_lag_112  sales_ewm_alpha_05_lag_119  sales_ewm_alpha_05_lag_126  sales_ewm_alpha_05_lag_182  sales_ewm_alpha_05_lag_238  sales_ewm_alpha_05_lag_364  sales_ewm_alpha_05_lag_455  \\\n",
      "44995                   77.878621                   77.356120                   85.292435                   63.027108                   60.573486                   87.248414                   69.116907                  51.309755                  58.648702                   64.033868                   64.335072                   76.889157                   78.812122                   79.314746                   90.917122                   65.867479                   61.127792   \n",
      "44996                   80.063586                   79.206836                   87.887731                   70.008132                   48.272046                   82.174524                   68.335072                  57.154878                  54.824351                   65.516934                   62.167536                   76.444579                   79.906061                   79.657373                   89.958561                   69.433740                   52.063896   \n",
      "44997                   84.919076                   81.162051                   88.666319                   68.602440                   62.081614                   93.952357                   73.000522                  58.077439                  58.912176                   68.758467                   64.083768                   74.722289                   83.453030                   80.828687                   89.479280                   68.716870                   60.031948   \n",
      "44998                   82.175723                   87.348615                   95.899896                   68.880732                   62.724484                   83.485707                   80.000156                  66.038719                  66.956088                   70.379233                   65.541884                   70.361145                   82.226515                   85.414343                   94.239640                   68.858435                   61.515974   \n",
      "44999                   79.252717                   98.304585                  105.769969                   91.364220                   63.617345                   92.945712                   81.400047                  64.019360                  68.478044                   61.189617                   67.270942                   59.680572                   80.113258                   94.207172                  102.119820                   84.929217                   62.757987   \n",
      "\n",
      "       sales_ewm_alpha_05_lag_546  sales_ewm_alpha_05_lag_728  \n",
      "44995                   85.489012                   68.933911  \n",
      "44996                   82.744506                   68.466956  \n",
      "44997                   90.872253                   71.733478  \n",
      "44998                   84.936127                   77.366739  \n",
      "44999                   90.968063                   79.683369  \n",
      "\n",
      "##################### NA #####################\n",
      "\n",
      "date                               0\n",
      "store                              0\n",
      "item                               0\n",
      "sales                          45000\n",
      "id                            913000\n",
      "                               ...  \n",
      "sales_ewm_alpha_05_lag_238    119000\n",
      "sales_ewm_alpha_05_lag_364    182000\n",
      "sales_ewm_alpha_05_lag_455    227500\n",
      "sales_ewm_alpha_05_lag_546    273000\n",
      "sales_ewm_alpha_05_lag_728    364000\n",
      "Length: 102, dtype: int64\n",
      "\n",
      "##################### Quantiles #####################\n",
      "\n",
      "                            0.00         0.05          0.50          0.95          0.99          1.00\n",
      "store                        1.0     1.000000      5.500000     10.000000     10.000000     10.000000\n",
      "item                         1.0     3.000000     25.500000     48.000000     50.000000     50.000000\n",
      "sales                        0.0    16.000000     47.000000    107.000000    135.000000    231.000000\n",
      "id                           0.0  2249.950000  22499.500000  42749.050000  44549.010000  44999.000000\n",
      "month                        1.0     1.000000      6.000000     12.000000     12.000000     12.000000\n",
      "...                          ...          ...           ...           ...           ...           ...\n",
      "sales_ewm_alpha_05_lag_238   2.0    16.601069     46.915040    103.698645    127.559375    201.730822\n",
      "sales_ewm_alpha_05_lag_364   2.0    16.291516     45.843271    100.351449    122.832476    188.015215\n",
      "sales_ewm_alpha_05_lag_455   2.0    16.330815     46.052856    101.005512    123.490306    188.015215\n",
      "sales_ewm_alpha_05_lag_546   2.0    16.228692     45.862208    100.982067    123.793832    188.015215\n",
      "sales_ewm_alpha_05_lag_728   2.0    15.696944     44.092934     95.922567    116.842434    178.776611\n",
      "\n",
      "[101 rows x 6 columns]\n",
      "\n"
     ]
    }
   ],
   "source": [
    "check_df(df)"
   ]
  },
  {
   "cell_type": "markdown",
   "id": "88b8648b",
   "metadata": {
    "papermill": {
     "duration": 0.037107,
     "end_time": "2022-02-11T23:47:32.358855",
     "exception": false,
     "start_time": "2022-02-11T23:47:32.321748",
     "status": "completed"
    },
    "tags": []
   },
   "source": [
    "# One-Hot Encoding"
   ]
  },
  {
   "cell_type": "code",
   "execution_count": 12,
   "id": "69248c6a",
   "metadata": {
    "execution": {
     "iopub.execute_input": "2022-02-11T23:47:32.436552Z",
     "iopub.status.busy": "2022-02-11T23:47:32.433124Z",
     "iopub.status.idle": "2022-02-11T23:47:34.079213Z",
     "shell.execute_reply": "2022-02-11T23:47:34.078628Z",
     "shell.execute_reply.started": "2022-02-11T22:41:09.100812Z"
    },
    "papermill": {
     "duration": 1.684892,
     "end_time": "2022-02-11T23:47:34.079389",
     "exception": false,
     "start_time": "2022-02-11T23:47:32.394497",
     "status": "completed"
    },
    "tags": []
   },
   "outputs": [],
   "source": [
    "df = pd.get_dummies(df, columns=['store', 'item', 'day_of_week', 'month'])"
   ]
  },
  {
   "cell_type": "markdown",
   "id": "a8ef229a",
   "metadata": {
    "papermill": {
     "duration": 0.03464,
     "end_time": "2022-02-11T23:47:34.148892",
     "exception": false,
     "start_time": "2022-02-11T23:47:34.114252",
     "status": "completed"
    },
    "tags": []
   },
   "source": []
  },
  {
   "cell_type": "markdown",
   "id": "eba76d08",
   "metadata": {
    "papermill": {
     "duration": 0.034437,
     "end_time": "2022-02-11T23:47:34.218535",
     "exception": false,
     "start_time": "2022-02-11T23:47:34.184098",
     "status": "completed"
    },
    "tags": []
   },
   "source": [
    "# Converting sales to log(1+sales)"
   ]
  },
  {
   "cell_type": "code",
   "execution_count": 13,
   "id": "73c723db",
   "metadata": {
    "execution": {
     "iopub.execute_input": "2022-02-11T23:47:34.297100Z",
     "iopub.status.busy": "2022-02-11T23:47:34.295463Z",
     "iopub.status.idle": "2022-02-11T23:47:34.321566Z",
     "shell.execute_reply": "2022-02-11T23:47:34.322093Z",
     "shell.execute_reply.started": "2022-02-11T22:41:10.428269Z"
    },
    "papermill": {
     "duration": 0.069143,
     "end_time": "2022-02-11T23:47:34.322265",
     "exception": false,
     "start_time": "2022-02-11T23:47:34.253122",
     "status": "completed"
    },
    "tags": []
   },
   "outputs": [],
   "source": [
    "df['sales'] = np.log1p(df[\"sales\"].values)"
   ]
  },
  {
   "cell_type": "markdown",
   "id": "60d9f31a",
   "metadata": {
    "papermill": {
     "duration": 0.034303,
     "end_time": "2022-02-11T23:47:34.392654",
     "exception": false,
     "start_time": "2022-02-11T23:47:34.358351",
     "status": "completed"
    },
    "tags": []
   },
   "source": [
    "# Time-Based Validation Sets"
   ]
  },
  {
   "cell_type": "code",
   "execution_count": 14,
   "id": "6d61d220",
   "metadata": {
    "execution": {
     "iopub.execute_input": "2022-02-11T23:47:34.466347Z",
     "iopub.status.busy": "2022-02-11T23:47:34.465365Z",
     "iopub.status.idle": "2022-02-11T23:47:35.446671Z",
     "shell.execute_reply": "2022-02-11T23:47:35.447249Z",
     "shell.execute_reply.started": "2022-02-11T22:41:10.453776Z"
    },
    "papermill": {
     "duration": 1.020183,
     "end_time": "2022-02-11T23:47:35.447626",
     "exception": false,
     "start_time": "2022-02-11T23:47:34.427443",
     "status": "completed"
    },
    "tags": []
   },
   "outputs": [
    {
     "data": {
      "text/plain": [
       "((365500,), (365500, 173), (45000,), (45000, 173))"
      ]
     },
     "execution_count": 14,
     "metadata": {},
     "output_type": "execute_result"
    }
   ],
   "source": [
    "train = df.loc[(df[\"date\"] >= \"2015-01-01\") &(df[\"date\"] < \"2017-01-01\"), :]\n",
    "val = df.loc[(df[\"date\"] >= \"2017-01-01\") & (df[\"date\"] < \"2017-04-01\"), :]\n",
    "\n",
    "cols = [col for col in train.columns if col not in ['date', 'id', \"sales\", \"year\"]]\n",
    "\n",
    "Y_train = train['sales']\n",
    "X_train = train[cols]\n",
    "\n",
    "Y_val = val['sales']\n",
    "X_val = val[cols]\n",
    "\n",
    "Y_train.shape, X_train.shape, Y_val.shape, X_val.shape"
   ]
  },
  {
   "cell_type": "markdown",
   "id": "53b62735",
   "metadata": {
    "papermill": {
     "duration": 0.036416,
     "end_time": "2022-02-11T23:47:35.520071",
     "exception": false,
     "start_time": "2022-02-11T23:47:35.483655",
     "status": "completed"
    },
    "tags": []
   },
   "source": [
    "# LightGBM Model"
   ]
  },
  {
   "cell_type": "code",
   "execution_count": 15,
   "id": "faa6c007",
   "metadata": {
    "execution": {
     "iopub.execute_input": "2022-02-11T23:47:35.610749Z",
     "iopub.status.busy": "2022-02-11T23:47:35.610088Z",
     "iopub.status.idle": "2022-02-11T23:47:35.614288Z",
     "shell.execute_reply": "2022-02-11T23:47:35.614808Z",
     "shell.execute_reply.started": "2022-02-11T22:41:11.380050Z"
    },
    "papermill": {
     "duration": 0.051155,
     "end_time": "2022-02-11T23:47:35.615005",
     "exception": false,
     "start_time": "2022-02-11T23:47:35.563850",
     "status": "completed"
    },
    "tags": []
   },
   "outputs": [],
   "source": [
    "lgb_params = {'metric': {'mae'},\n",
    "              'num_leaves': 10,\n",
    "              'learning_rate': 0.01,\n",
    "              'feature_fraction': 0.8,\n",
    "              'max_depth': 5,\n",
    "              'verbose': 0,\n",
    "              'num_boost_round': 15000,\n",
    "              'early_stopping_rounds': 200,\n",
    "              'nthread': -1}"
   ]
  },
  {
   "cell_type": "code",
   "execution_count": 16,
   "id": "0f833cd5",
   "metadata": {
    "execution": {
     "iopub.execute_input": "2022-02-11T23:47:35.689634Z",
     "iopub.status.busy": "2022-02-11T23:47:35.688998Z",
     "iopub.status.idle": "2022-02-12T00:08:01.576792Z",
     "shell.execute_reply": "2022-02-12T00:08:01.577384Z",
     "shell.execute_reply.started": "2022-02-11T22:41:11.386924Z"
    },
    "papermill": {
     "duration": 1225.927215,
     "end_time": "2022-02-12T00:08:01.577771",
     "exception": false,
     "start_time": "2022-02-11T23:47:35.650556",
     "status": "completed"
    },
    "tags": []
   },
   "outputs": [
    {
     "name": "stdout",
     "output_type": "stream",
     "text": [
      "[LightGBM] [Warning] Auto-choosing col-wise multi-threading, the overhead of testing was 0.248587 seconds.\n",
      "You can set `force_col_wise=true` to remove the overhead.\n",
      "Training until validation scores don't improve for 200 rounds\n",
      "[100]\ttraining's l1: 0.215032\ttraining's SMAPE: 21.7764\tvalid_1's l1: 0.216804\tvalid_1's SMAPE: 22.013\n",
      "[200]\ttraining's l1: 0.148663\ttraining's SMAPE: 15.1766\tvalid_1's l1: 0.157183\tvalid_1's SMAPE: 16.0981\n",
      "[300]\ttraining's l1: 0.134583\ttraining's SMAPE: 13.7661\tvalid_1's l1: 0.145533\tvalid_1's SMAPE: 14.9304\n",
      "[400]\ttraining's l1: 0.131074\ttraining's SMAPE: 13.4151\tvalid_1's l1: 0.142393\tvalid_1's SMAPE: 14.6157\n",
      "[500]\ttraining's l1: 0.12983\ttraining's SMAPE: 13.2907\tvalid_1's l1: 0.141332\tvalid_1's SMAPE: 14.5096\n",
      "[600]\ttraining's l1: 0.129125\ttraining's SMAPE: 13.2199\tvalid_1's l1: 0.140595\tvalid_1's SMAPE: 14.4359\n",
      "[700]\ttraining's l1: 0.128583\ttraining's SMAPE: 13.1653\tvalid_1's l1: 0.139999\tvalid_1's SMAPE: 14.376\n",
      "[800]\ttraining's l1: 0.128114\ttraining's SMAPE: 13.1179\tvalid_1's l1: 0.139495\tvalid_1's SMAPE: 14.3253\n",
      "[900]\ttraining's l1: 0.127673\ttraining's SMAPE: 13.0734\tvalid_1's l1: 0.139016\tvalid_1's SMAPE: 14.2769\n",
      "[1000]\ttraining's l1: 0.12726\ttraining's SMAPE: 13.0316\tvalid_1's l1: 0.138644\tvalid_1's SMAPE: 14.2393\n",
      "[1100]\ttraining's l1: 0.126875\ttraining's SMAPE: 12.9928\tvalid_1's l1: 0.138276\tvalid_1's SMAPE: 14.2023\n",
      "[1200]\ttraining's l1: 0.126519\ttraining's SMAPE: 12.9568\tvalid_1's l1: 0.137926\tvalid_1's SMAPE: 14.167\n",
      "[1300]\ttraining's l1: 0.12619\ttraining's SMAPE: 12.9236\tvalid_1's l1: 0.137592\tvalid_1's SMAPE: 14.1333\n",
      "[1400]\ttraining's l1: 0.125874\ttraining's SMAPE: 12.8918\tvalid_1's l1: 0.137262\tvalid_1's SMAPE: 14.0999\n",
      "[1500]\ttraining's l1: 0.125574\ttraining's SMAPE: 12.8615\tvalid_1's l1: 0.136964\tvalid_1's SMAPE: 14.0699\n",
      "[1600]\ttraining's l1: 0.125289\ttraining's SMAPE: 12.8327\tvalid_1's l1: 0.136698\tvalid_1's SMAPE: 14.0431\n",
      "[1700]\ttraining's l1: 0.12503\ttraining's SMAPE: 12.8066\tvalid_1's l1: 0.136394\tvalid_1's SMAPE: 14.0124\n",
      "[1800]\ttraining's l1: 0.124783\ttraining's SMAPE: 12.7817\tvalid_1's l1: 0.13615\tvalid_1's SMAPE: 13.9878\n",
      "[1900]\ttraining's l1: 0.124553\ttraining's SMAPE: 12.7584\tvalid_1's l1: 0.135932\tvalid_1's SMAPE: 13.9659\n",
      "[2000]\ttraining's l1: 0.124344\ttraining's SMAPE: 12.7373\tvalid_1's l1: 0.135713\tvalid_1's SMAPE: 13.9438\n",
      "[2100]\ttraining's l1: 0.12414\ttraining's SMAPE: 12.7167\tvalid_1's l1: 0.135509\tvalid_1's SMAPE: 13.9231\n",
      "[2200]\ttraining's l1: 0.123947\ttraining's SMAPE: 12.6973\tvalid_1's l1: 0.13531\tvalid_1's SMAPE: 13.903\n",
      "[2300]\ttraining's l1: 0.123766\ttraining's SMAPE: 12.679\tvalid_1's l1: 0.135134\tvalid_1's SMAPE: 13.8853\n",
      "[2400]\ttraining's l1: 0.123595\ttraining's SMAPE: 12.6617\tvalid_1's l1: 0.134951\tvalid_1's SMAPE: 13.8668\n",
      "[2500]\ttraining's l1: 0.123429\ttraining's SMAPE: 12.645\tvalid_1's l1: 0.134769\tvalid_1's SMAPE: 13.8484\n",
      "[2600]\ttraining's l1: 0.123274\ttraining's SMAPE: 12.6293\tvalid_1's l1: 0.134619\tvalid_1's SMAPE: 13.8333\n",
      "[2700]\ttraining's l1: 0.123129\ttraining's SMAPE: 12.6147\tvalid_1's l1: 0.134486\tvalid_1's SMAPE: 13.8199\n",
      "[2800]\ttraining's l1: 0.122994\ttraining's SMAPE: 12.601\tvalid_1's l1: 0.134353\tvalid_1's SMAPE: 13.8064\n",
      "[2900]\ttraining's l1: 0.122862\ttraining's SMAPE: 12.5877\tvalid_1's l1: 0.134206\tvalid_1's SMAPE: 13.7916\n",
      "[3000]\ttraining's l1: 0.122739\ttraining's SMAPE: 12.5753\tvalid_1's l1: 0.134074\tvalid_1's SMAPE: 13.7784\n",
      "[3100]\ttraining's l1: 0.122617\ttraining's SMAPE: 12.563\tvalid_1's l1: 0.133946\tvalid_1's SMAPE: 13.7654\n",
      "[3200]\ttraining's l1: 0.122502\ttraining's SMAPE: 12.5514\tvalid_1's l1: 0.133833\tvalid_1's SMAPE: 13.754\n",
      "[3300]\ttraining's l1: 0.122391\ttraining's SMAPE: 12.5401\tvalid_1's l1: 0.133729\tvalid_1's SMAPE: 13.7435\n",
      "[3400]\ttraining's l1: 0.122282\ttraining's SMAPE: 12.5291\tvalid_1's l1: 0.133611\tvalid_1's SMAPE: 13.7316\n",
      "[3500]\ttraining's l1: 0.122178\ttraining's SMAPE: 12.5186\tvalid_1's l1: 0.13351\tvalid_1's SMAPE: 13.7213\n",
      "[3600]\ttraining's l1: 0.122078\ttraining's SMAPE: 12.5085\tvalid_1's l1: 0.133408\tvalid_1's SMAPE: 13.711\n",
      "[3700]\ttraining's l1: 0.121984\ttraining's SMAPE: 12.499\tvalid_1's l1: 0.133306\tvalid_1's SMAPE: 13.7008\n",
      "[3800]\ttraining's l1: 0.121893\ttraining's SMAPE: 12.4898\tvalid_1's l1: 0.133229\tvalid_1's SMAPE: 13.693\n",
      "[3900]\ttraining's l1: 0.121805\ttraining's SMAPE: 12.4809\tvalid_1's l1: 0.133158\tvalid_1's SMAPE: 13.6858\n",
      "[4000]\ttraining's l1: 0.121724\ttraining's SMAPE: 12.4727\tvalid_1's l1: 0.133081\tvalid_1's SMAPE: 13.6781\n",
      "[4100]\ttraining's l1: 0.121643\ttraining's SMAPE: 12.4645\tvalid_1's l1: 0.133011\tvalid_1's SMAPE: 13.671\n",
      "[4200]\ttraining's l1: 0.121566\ttraining's SMAPE: 12.4567\tvalid_1's l1: 0.132944\tvalid_1's SMAPE: 13.6642\n",
      "[4300]\ttraining's l1: 0.121492\ttraining's SMAPE: 12.4492\tvalid_1's l1: 0.132875\tvalid_1's SMAPE: 13.6573\n",
      "[4400]\ttraining's l1: 0.121421\ttraining's SMAPE: 12.4421\tvalid_1's l1: 0.132818\tvalid_1's SMAPE: 13.6516\n",
      "[4500]\ttraining's l1: 0.12135\ttraining's SMAPE: 12.4349\tvalid_1's l1: 0.132757\tvalid_1's SMAPE: 13.6454\n",
      "[4600]\ttraining's l1: 0.121283\ttraining's SMAPE: 12.4281\tvalid_1's l1: 0.132707\tvalid_1's SMAPE: 13.6403\n",
      "[4700]\ttraining's l1: 0.121215\ttraining's SMAPE: 12.4212\tvalid_1's l1: 0.132659\tvalid_1's SMAPE: 13.6355\n",
      "[4800]\ttraining's l1: 0.121152\ttraining's SMAPE: 12.4149\tvalid_1's l1: 0.132608\tvalid_1's SMAPE: 13.6304\n",
      "[4900]\ttraining's l1: 0.121088\ttraining's SMAPE: 12.4083\tvalid_1's l1: 0.132546\tvalid_1's SMAPE: 13.6241\n",
      "[5000]\ttraining's l1: 0.121024\ttraining's SMAPE: 12.4019\tvalid_1's l1: 0.132497\tvalid_1's SMAPE: 13.6191\n",
      "[5100]\ttraining's l1: 0.120963\ttraining's SMAPE: 12.3957\tvalid_1's l1: 0.132449\tvalid_1's SMAPE: 13.6144\n",
      "[5200]\ttraining's l1: 0.120905\ttraining's SMAPE: 12.3899\tvalid_1's l1: 0.132408\tvalid_1's SMAPE: 13.6101\n",
      "[5300]\ttraining's l1: 0.12085\ttraining's SMAPE: 12.3842\tvalid_1's l1: 0.132366\tvalid_1's SMAPE: 13.6059\n",
      "[5400]\ttraining's l1: 0.120795\ttraining's SMAPE: 12.3787\tvalid_1's l1: 0.132331\tvalid_1's SMAPE: 13.6024\n",
      "[5500]\ttraining's l1: 0.120742\ttraining's SMAPE: 12.3733\tvalid_1's l1: 0.132284\tvalid_1's SMAPE: 13.5977\n",
      "[5600]\ttraining's l1: 0.120691\ttraining's SMAPE: 12.3681\tvalid_1's l1: 0.132245\tvalid_1's SMAPE: 13.5937\n",
      "[5700]\ttraining's l1: 0.12064\ttraining's SMAPE: 12.363\tvalid_1's l1: 0.132211\tvalid_1's SMAPE: 13.5903\n",
      "[5800]\ttraining's l1: 0.12059\ttraining's SMAPE: 12.358\tvalid_1's l1: 0.132183\tvalid_1's SMAPE: 13.5874\n",
      "[5900]\ttraining's l1: 0.120543\ttraining's SMAPE: 12.3532\tvalid_1's l1: 0.132147\tvalid_1's SMAPE: 13.5838\n",
      "[6000]\ttraining's l1: 0.120495\ttraining's SMAPE: 12.3483\tvalid_1's l1: 0.132112\tvalid_1's SMAPE: 13.5802\n",
      "[6100]\ttraining's l1: 0.120449\ttraining's SMAPE: 12.3436\tvalid_1's l1: 0.132084\tvalid_1's SMAPE: 13.5774\n",
      "[6200]\ttraining's l1: 0.120403\ttraining's SMAPE: 12.339\tvalid_1's l1: 0.132051\tvalid_1's SMAPE: 13.5741\n",
      "[6300]\ttraining's l1: 0.120359\ttraining's SMAPE: 12.3346\tvalid_1's l1: 0.132022\tvalid_1's SMAPE: 13.5712\n",
      "[6400]\ttraining's l1: 0.120317\ttraining's SMAPE: 12.3303\tvalid_1's l1: 0.131993\tvalid_1's SMAPE: 13.5683\n",
      "[6500]\ttraining's l1: 0.120273\ttraining's SMAPE: 12.3259\tvalid_1's l1: 0.131966\tvalid_1's SMAPE: 13.5656\n",
      "[6600]\ttraining's l1: 0.120232\ttraining's SMAPE: 12.3216\tvalid_1's l1: 0.131936\tvalid_1's SMAPE: 13.5625\n",
      "[6700]\ttraining's l1: 0.120191\ttraining's SMAPE: 12.3175\tvalid_1's l1: 0.13191\tvalid_1's SMAPE: 13.5599\n",
      "[6800]\ttraining's l1: 0.120151\ttraining's SMAPE: 12.3134\tvalid_1's l1: 0.131884\tvalid_1's SMAPE: 13.5573\n",
      "[6900]\ttraining's l1: 0.120111\ttraining's SMAPE: 12.3094\tvalid_1's l1: 0.13186\tvalid_1's SMAPE: 13.5549\n",
      "[7000]\ttraining's l1: 0.120071\ttraining's SMAPE: 12.3054\tvalid_1's l1: 0.131837\tvalid_1's SMAPE: 13.5525\n",
      "[7100]\ttraining's l1: 0.120033\ttraining's SMAPE: 12.3015\tvalid_1's l1: 0.131808\tvalid_1's SMAPE: 13.5496\n",
      "[7200]\ttraining's l1: 0.119996\ttraining's SMAPE: 12.2977\tvalid_1's l1: 0.131787\tvalid_1's SMAPE: 13.5475\n",
      "[7300]\ttraining's l1: 0.119959\ttraining's SMAPE: 12.294\tvalid_1's l1: 0.131766\tvalid_1's SMAPE: 13.5454\n",
      "[7400]\ttraining's l1: 0.119923\ttraining's SMAPE: 12.2903\tvalid_1's l1: 0.131745\tvalid_1's SMAPE: 13.5432\n",
      "[7500]\ttraining's l1: 0.119887\ttraining's SMAPE: 12.2866\tvalid_1's l1: 0.131718\tvalid_1's SMAPE: 13.5406\n",
      "[7600]\ttraining's l1: 0.119852\ttraining's SMAPE: 12.283\tvalid_1's l1: 0.131696\tvalid_1's SMAPE: 13.5383\n",
      "[7700]\ttraining's l1: 0.119815\ttraining's SMAPE: 12.2793\tvalid_1's l1: 0.131675\tvalid_1's SMAPE: 13.5361\n",
      "[7800]\ttraining's l1: 0.119781\ttraining's SMAPE: 12.2758\tvalid_1's l1: 0.131658\tvalid_1's SMAPE: 13.5344\n",
      "[7900]\ttraining's l1: 0.119746\ttraining's SMAPE: 12.2723\tvalid_1's l1: 0.131638\tvalid_1's SMAPE: 13.5324\n",
      "[8000]\ttraining's l1: 0.119713\ttraining's SMAPE: 12.2689\tvalid_1's l1: 0.131617\tvalid_1's SMAPE: 13.5303\n",
      "[8100]\ttraining's l1: 0.119679\ttraining's SMAPE: 12.2654\tvalid_1's l1: 0.1316\tvalid_1's SMAPE: 13.5286\n",
      "[8200]\ttraining's l1: 0.119645\ttraining's SMAPE: 12.262\tvalid_1's l1: 0.131583\tvalid_1's SMAPE: 13.5269\n",
      "[8300]\ttraining's l1: 0.119611\ttraining's SMAPE: 12.2586\tvalid_1's l1: 0.131567\tvalid_1's SMAPE: 13.5252\n",
      "[8400]\ttraining's l1: 0.119579\ttraining's SMAPE: 12.2553\tvalid_1's l1: 0.131551\tvalid_1's SMAPE: 13.5236\n",
      "[8500]\ttraining's l1: 0.119545\ttraining's SMAPE: 12.2519\tvalid_1's l1: 0.131535\tvalid_1's SMAPE: 13.522\n",
      "[8600]\ttraining's l1: 0.119513\ttraining's SMAPE: 12.2486\tvalid_1's l1: 0.131521\tvalid_1's SMAPE: 13.5206\n",
      "[8700]\ttraining's l1: 0.11948\ttraining's SMAPE: 12.2453\tvalid_1's l1: 0.131505\tvalid_1's SMAPE: 13.519\n",
      "[8800]\ttraining's l1: 0.119449\ttraining's SMAPE: 12.242\tvalid_1's l1: 0.131494\tvalid_1's SMAPE: 13.5179\n",
      "[8900]\ttraining's l1: 0.119417\ttraining's SMAPE: 12.2388\tvalid_1's l1: 0.13148\tvalid_1's SMAPE: 13.5165\n",
      "[9000]\ttraining's l1: 0.119386\ttraining's SMAPE: 12.2356\tvalid_1's l1: 0.13147\tvalid_1's SMAPE: 13.5154\n",
      "[9100]\ttraining's l1: 0.119354\ttraining's SMAPE: 12.2324\tvalid_1's l1: 0.131457\tvalid_1's SMAPE: 13.5141\n",
      "[9200]\ttraining's l1: 0.119324\ttraining's SMAPE: 12.2293\tvalid_1's l1: 0.131447\tvalid_1's SMAPE: 13.5131\n",
      "[9300]\ttraining's l1: 0.119293\ttraining's SMAPE: 12.2262\tvalid_1's l1: 0.131438\tvalid_1's SMAPE: 13.5121\n",
      "[9400]\ttraining's l1: 0.119262\ttraining's SMAPE: 12.223\tvalid_1's l1: 0.131424\tvalid_1's SMAPE: 13.5108\n",
      "[9500]\ttraining's l1: 0.119232\ttraining's SMAPE: 12.2199\tvalid_1's l1: 0.131409\tvalid_1's SMAPE: 13.5093\n",
      "[9600]\ttraining's l1: 0.119201\ttraining's SMAPE: 12.2168\tvalid_1's l1: 0.131399\tvalid_1's SMAPE: 13.5082\n",
      "[9700]\ttraining's l1: 0.119172\ttraining's SMAPE: 12.2138\tvalid_1's l1: 0.131393\tvalid_1's SMAPE: 13.5077\n",
      "[9800]\ttraining's l1: 0.119142\ttraining's SMAPE: 12.2108\tvalid_1's l1: 0.131382\tvalid_1's SMAPE: 13.5065\n",
      "[9900]\ttraining's l1: 0.119112\ttraining's SMAPE: 12.2077\tvalid_1's l1: 0.131371\tvalid_1's SMAPE: 13.5054\n",
      "[10000]\ttraining's l1: 0.119082\ttraining's SMAPE: 12.2047\tvalid_1's l1: 0.131361\tvalid_1's SMAPE: 13.5043\n",
      "[10100]\ttraining's l1: 0.119052\ttraining's SMAPE: 12.2016\tvalid_1's l1: 0.131354\tvalid_1's SMAPE: 13.5037\n",
      "[10200]\ttraining's l1: 0.119023\ttraining's SMAPE: 12.1986\tvalid_1's l1: 0.131344\tvalid_1's SMAPE: 13.5026\n",
      "[10300]\ttraining's l1: 0.118994\ttraining's SMAPE: 12.1957\tvalid_1's l1: 0.131331\tvalid_1's SMAPE: 13.5014\n",
      "[10400]\ttraining's l1: 0.118964\ttraining's SMAPE: 12.1927\tvalid_1's l1: 0.131326\tvalid_1's SMAPE: 13.5008\n",
      "[10500]\ttraining's l1: 0.118935\ttraining's SMAPE: 12.1897\tvalid_1's l1: 0.131316\tvalid_1's SMAPE: 13.4998\n",
      "[10600]\ttraining's l1: 0.118906\ttraining's SMAPE: 12.1867\tvalid_1's l1: 0.131307\tvalid_1's SMAPE: 13.4989\n",
      "[10700]\ttraining's l1: 0.118877\ttraining's SMAPE: 12.1838\tvalid_1's l1: 0.1313\tvalid_1's SMAPE: 13.4982\n",
      "[10800]\ttraining's l1: 0.118848\ttraining's SMAPE: 12.1808\tvalid_1's l1: 0.13129\tvalid_1's SMAPE: 13.4971\n",
      "[10900]\ttraining's l1: 0.118819\ttraining's SMAPE: 12.1778\tvalid_1's l1: 0.131282\tvalid_1's SMAPE: 13.4964\n",
      "[11000]\ttraining's l1: 0.11879\ttraining's SMAPE: 12.1748\tvalid_1's l1: 0.131273\tvalid_1's SMAPE: 13.4955\n",
      "[11100]\ttraining's l1: 0.118761\ttraining's SMAPE: 12.1719\tvalid_1's l1: 0.131266\tvalid_1's SMAPE: 13.4947\n",
      "[11200]\ttraining's l1: 0.118734\ttraining's SMAPE: 12.1691\tvalid_1's l1: 0.131257\tvalid_1's SMAPE: 13.4938\n",
      "[11300]\ttraining's l1: 0.118706\ttraining's SMAPE: 12.1663\tvalid_1's l1: 0.13125\tvalid_1's SMAPE: 13.4931\n",
      "[11400]\ttraining's l1: 0.118678\ttraining's SMAPE: 12.1634\tvalid_1's l1: 0.131242\tvalid_1's SMAPE: 13.4924\n",
      "[11500]\ttraining's l1: 0.11865\ttraining's SMAPE: 12.1605\tvalid_1's l1: 0.131238\tvalid_1's SMAPE: 13.4919\n",
      "[11600]\ttraining's l1: 0.118622\ttraining's SMAPE: 12.1577\tvalid_1's l1: 0.131229\tvalid_1's SMAPE: 13.491\n",
      "[11700]\ttraining's l1: 0.118595\ttraining's SMAPE: 12.1549\tvalid_1's l1: 0.131223\tvalid_1's SMAPE: 13.4904\n",
      "[11800]\ttraining's l1: 0.118567\ttraining's SMAPE: 12.1521\tvalid_1's l1: 0.131215\tvalid_1's SMAPE: 13.4896\n",
      "[11900]\ttraining's l1: 0.11854\ttraining's SMAPE: 12.1493\tvalid_1's l1: 0.131209\tvalid_1's SMAPE: 13.489\n",
      "[12000]\ttraining's l1: 0.118512\ttraining's SMAPE: 12.1465\tvalid_1's l1: 0.131203\tvalid_1's SMAPE: 13.4883\n",
      "[12100]\ttraining's l1: 0.118485\ttraining's SMAPE: 12.1437\tvalid_1's l1: 0.131196\tvalid_1's SMAPE: 13.4876\n",
      "[12200]\ttraining's l1: 0.118456\ttraining's SMAPE: 12.1408\tvalid_1's l1: 0.131194\tvalid_1's SMAPE: 13.4874\n",
      "[12300]\ttraining's l1: 0.118429\ttraining's SMAPE: 12.1381\tvalid_1's l1: 0.131188\tvalid_1's SMAPE: 13.4869\n",
      "[12400]\ttraining's l1: 0.118402\ttraining's SMAPE: 12.1353\tvalid_1's l1: 0.131183\tvalid_1's SMAPE: 13.4864\n",
      "[12500]\ttraining's l1: 0.118375\ttraining's SMAPE: 12.1325\tvalid_1's l1: 0.131177\tvalid_1's SMAPE: 13.4858\n",
      "[12600]\ttraining's l1: 0.118347\ttraining's SMAPE: 12.1297\tvalid_1's l1: 0.131172\tvalid_1's SMAPE: 13.4853\n",
      "[12700]\ttraining's l1: 0.118321\ttraining's SMAPE: 12.127\tvalid_1's l1: 0.131169\tvalid_1's SMAPE: 13.4849\n",
      "[12800]\ttraining's l1: 0.118295\ttraining's SMAPE: 12.1243\tvalid_1's l1: 0.131165\tvalid_1's SMAPE: 13.4846\n",
      "[12900]\ttraining's l1: 0.118268\ttraining's SMAPE: 12.1216\tvalid_1's l1: 0.13116\tvalid_1's SMAPE: 13.484\n",
      "[13000]\ttraining's l1: 0.118242\ttraining's SMAPE: 12.1189\tvalid_1's l1: 0.131155\tvalid_1's SMAPE: 13.4835\n",
      "[13100]\ttraining's l1: 0.118215\ttraining's SMAPE: 12.1162\tvalid_1's l1: 0.13115\tvalid_1's SMAPE: 13.483\n",
      "[13200]\ttraining's l1: 0.118189\ttraining's SMAPE: 12.1135\tvalid_1's l1: 0.131143\tvalid_1's SMAPE: 13.4823\n",
      "[13300]\ttraining's l1: 0.118162\ttraining's SMAPE: 12.1108\tvalid_1's l1: 0.131139\tvalid_1's SMAPE: 13.4819\n",
      "[13400]\ttraining's l1: 0.118136\ttraining's SMAPE: 12.1081\tvalid_1's l1: 0.131135\tvalid_1's SMAPE: 13.4815\n",
      "[13500]\ttraining's l1: 0.11811\ttraining's SMAPE: 12.1054\tvalid_1's l1: 0.131132\tvalid_1's SMAPE: 13.4812\n",
      "[13600]\ttraining's l1: 0.118083\ttraining's SMAPE: 12.1027\tvalid_1's l1: 0.131127\tvalid_1's SMAPE: 13.4807\n",
      "[13700]\ttraining's l1: 0.118057\ttraining's SMAPE: 12.1001\tvalid_1's l1: 0.131122\tvalid_1's SMAPE: 13.4802\n",
      "[13800]\ttraining's l1: 0.118031\ttraining's SMAPE: 12.0974\tvalid_1's l1: 0.131117\tvalid_1's SMAPE: 13.4797\n",
      "[13900]\ttraining's l1: 0.118005\ttraining's SMAPE: 12.0947\tvalid_1's l1: 0.131113\tvalid_1's SMAPE: 13.4793\n",
      "[14000]\ttraining's l1: 0.117979\ttraining's SMAPE: 12.0921\tvalid_1's l1: 0.131111\tvalid_1's SMAPE: 13.4791\n",
      "[14100]\ttraining's l1: 0.117953\ttraining's SMAPE: 12.0894\tvalid_1's l1: 0.131108\tvalid_1's SMAPE: 13.4788\n",
      "[14200]\ttraining's l1: 0.117928\ttraining's SMAPE: 12.0868\tvalid_1's l1: 0.131107\tvalid_1's SMAPE: 13.4786\n",
      "[14300]\ttraining's l1: 0.117902\ttraining's SMAPE: 12.0842\tvalid_1's l1: 0.131104\tvalid_1's SMAPE: 13.4783\n",
      "[14400]\ttraining's l1: 0.117876\ttraining's SMAPE: 12.0816\tvalid_1's l1: 0.131101\tvalid_1's SMAPE: 13.4781\n",
      "[14500]\ttraining's l1: 0.117851\ttraining's SMAPE: 12.079\tvalid_1's l1: 0.131099\tvalid_1's SMAPE: 13.4778\n",
      "[14600]\ttraining's l1: 0.117826\ttraining's SMAPE: 12.0764\tvalid_1's l1: 0.131098\tvalid_1's SMAPE: 13.4777\n",
      "[14700]\ttraining's l1: 0.117801\ttraining's SMAPE: 12.0738\tvalid_1's l1: 0.131094\tvalid_1's SMAPE: 13.4773\n",
      "[14800]\ttraining's l1: 0.117775\ttraining's SMAPE: 12.0712\tvalid_1's l1: 0.13109\tvalid_1's SMAPE: 13.4769\n",
      "[14900]\ttraining's l1: 0.11775\ttraining's SMAPE: 12.0687\tvalid_1's l1: 0.131085\tvalid_1's SMAPE: 13.4765\n",
      "[15000]\ttraining's l1: 0.117726\ttraining's SMAPE: 12.0662\tvalid_1's l1: 0.131082\tvalid_1's SMAPE: 13.4762\n",
      "Did not meet early stopping. Best iteration is:\n",
      "[15000]\ttraining's l1: 0.117726\ttraining's SMAPE: 12.0662\tvalid_1's l1: 0.131082\tvalid_1's SMAPE: 13.4762\n"
     ]
    },
    {
     "data": {
      "text/plain": [
       "13.476169618077607"
      ]
     },
     "execution_count": 16,
     "metadata": {},
     "output_type": "execute_result"
    }
   ],
   "source": [
    "lgbtrain = lgb.Dataset(data=X_train, label=Y_train, feature_name=cols)\n",
    "lgbval = lgb.Dataset(data=X_val, label=Y_val, reference=lgbtrain, feature_name=cols)\n",
    "\n",
    "model = lgb.train(lgb_params, lgbtrain,\n",
    "                  valid_sets=[lgbtrain, lgbval],\n",
    "                  num_boost_round=lgb_params['num_boost_round'],\n",
    "                  early_stopping_rounds=lgb_params['early_stopping_rounds'],\n",
    "                  feval=lgbm_smape,\n",
    "                  verbose_eval=100)\n",
    "\n",
    "y_pred_val = model.predict(X_val, num_iteration=model.best_iteration)\n",
    "\n",
    "smape(np.expm1(y_pred_val), np.expm1(Y_val))"
   ]
  },
  {
   "cell_type": "markdown",
   "id": "1da979a4",
   "metadata": {
    "papermill": {
     "duration": 0.089725,
     "end_time": "2022-02-12T00:08:01.757617",
     "exception": false,
     "start_time": "2022-02-12T00:08:01.667892",
     "status": "completed"
    },
    "tags": []
   },
   "source": [
    "# Feature Importance"
   ]
  },
  {
   "cell_type": "code",
   "execution_count": 17,
   "id": "eb290dfc",
   "metadata": {
    "execution": {
     "iopub.execute_input": "2022-02-12T00:08:01.943470Z",
     "iopub.status.busy": "2022-02-12T00:08:01.940884Z",
     "iopub.status.idle": "2022-02-12T00:08:02.559483Z",
     "shell.execute_reply": "2022-02-12T00:08:02.559978Z",
     "shell.execute_reply.started": "2022-02-11T23:07:45.650034Z"
    },
    "papermill": {
     "duration": 0.712717,
     "end_time": "2022-02-12T00:08:02.560146",
     "exception": false,
     "start_time": "2022-02-12T00:08:01.847429",
     "status": "completed"
    },
    "tags": []
   },
   "outputs": [
    {
     "data": {
      "image/png": "[encoded data removed]",
      "text/plain": [
       "<Figure size 720x720 with 1 Axes>"
      ]
     },
     "metadata": {
      "needs_background": "light"
     },
     "output_type": "display_data"
    }
   ],
   "source": [
    "plot_lgb_importances(model, num=30, plot=True)"
   ]
  },
  {
   "cell_type": "markdown",
   "id": "92eb4f5e",
   "metadata": {
    "papermill": {
     "duration": 0.091973,
     "end_time": "2022-02-12T00:08:02.745017",
     "exception": false,
     "start_time": "2022-02-12T00:08:02.653044",
     "status": "completed"
    },
    "tags": []
   },
   "source": [
    "# Final Model"
   ]
  },
  {
   "cell_type": "code",
   "execution_count": 18,
   "id": "2a678367",
   "metadata": {
    "execution": {
     "iopub.execute_input": "2022-02-12T00:08:02.940487Z",
     "iopub.status.busy": "2022-02-12T00:08:02.939816Z",
     "iopub.status.idle": "2022-02-12T00:28:56.924682Z",
     "shell.execute_reply": "2022-02-12T00:28:56.925879Z",
     "shell.execute_reply.started": "2022-02-11T23:07:46.173090Z"
    },
    "papermill": {
     "duration": 1254.087206,
     "end_time": "2022-02-12T00:28:56.926132",
     "exception": false,
     "start_time": "2022-02-12T00:08:02.838926",
     "status": "completed"
    },
    "tags": []
   },
   "outputs": [
    {
     "name": "stdout",
     "output_type": "stream",
     "text": [
      "[LightGBM] [Warning] Auto-choosing col-wise multi-threading, the overhead of testing was 0.622656 seconds.\n",
      "You can set `force_col_wise=true` to remove the overhead.\n"
     ]
    }
   ],
   "source": [
    "train = df.loc[~df.sales.isna()]\n",
    "Y_train = train['sales']\n",
    "X_train = train[cols]\n",
    "\n",
    "test = df.loc[df.sales.isna()]\n",
    "X_test = test[cols]\n",
    "\n",
    "lgb_params = {'metric': {'mae'},\n",
    "              'num_leaves': 10,\n",
    "              'learning_rate': 0.02,\n",
    "              'feature_fraction': 0.8,\n",
    "              'max_depth': 5,\n",
    "              'verbose': 0,\n",
    "              'nthread': -1,\n",
    "              \"num_boost_round\": model.best_iteration}\n",
    "\n",
    "\n",
    "# LightGBM dataset\n",
    "lgbtrain_all = lgb.Dataset(data=X_train, label=Y_train, feature_name=cols)\n",
    "\n",
    "model = lgb.train(lgb_params, lgbtrain_all, num_boost_round=model.best_iteration)\n",
    "\n",
    "test_preds = model.predict(X_test, num_iteration=model.best_iteration)\n"
   ]
  },
  {
   "cell_type": "markdown",
   "id": "884a2dcf",
   "metadata": {
    "papermill": {
     "duration": 0.095543,
     "end_time": "2022-02-12T00:28:57.117425",
     "exception": false,
     "start_time": "2022-02-12T00:28:57.021882",
     "status": "completed"
    },
    "tags": []
   },
   "source": [
    "# Submission"
   ]
  },
  {
   "cell_type": "code",
   "execution_count": 19,
   "id": "7f8e1d3e",
   "metadata": {
    "execution": {
     "iopub.execute_input": "2022-02-12T00:28:57.314751Z",
     "iopub.status.busy": "2022-02-12T00:28:57.314046Z",
     "iopub.status.idle": "2022-02-12T00:28:57.487884Z",
     "shell.execute_reply": "2022-02-12T00:28:57.487360Z",
     "shell.execute_reply.started": "2022-02-11T23:40:43.258002Z"
    },
    "papermill": {
     "duration": 0.276052,
     "end_time": "2022-02-12T00:28:57.488020",
     "exception": false,
     "start_time": "2022-02-12T00:28:57.211968",
     "status": "completed"
    },
    "tags": []
   },
   "outputs": [
    {
     "data": {
      "text/html": [
       "<div>\n",
       "<style scoped>\n",
       "    .dataframe tbody tr th:only-of-type {\n",
       "        vertical-align: middle;\n",
       "    }\n",
       "\n",
       "    .dataframe tbody tr th {\n",
       "        vertical-align: top;\n",
       "    }\n",
       "\n",
       "    .dataframe thead th {\n",
       "        text-align: right;\n",
       "    }\n",
       "</style>\n",
       "<table border=\"1\" class=\"dataframe\">\n",
       "  <thead>\n",
       "    <tr style=\"text-align: right;\">\n",
       "      <th></th>\n",
       "      <th>id</th>\n",
       "      <th>sales</th>\n",
       "    </tr>\n",
       "  </thead>\n",
       "  <tbody>\n",
       "    <tr>\n",
       "      <th>0</th>\n",
       "      <td>0</td>\n",
       "      <td>12.021048</td>\n",
       "    </tr>\n",
       "    <tr>\n",
       "      <th>1</th>\n",
       "      <td>1</td>\n",
       "      <td>13.694523</td>\n",
       "    </tr>\n",
       "    <tr>\n",
       "      <th>2</th>\n",
       "      <td>2</td>\n",
       "      <td>14.165316</td>\n",
       "    </tr>\n",
       "    <tr>\n",
       "      <th>3</th>\n",
       "      <td>3</td>\n",
       "      <td>14.962911</td>\n",
       "    </tr>\n",
       "    <tr>\n",
       "      <th>4</th>\n",
       "      <td>4</td>\n",
       "      <td>16.778482</td>\n",
       "    </tr>\n",
       "    <tr>\n",
       "      <th>5</th>\n",
       "      <td>5</td>\n",
       "      <td>17.351811</td>\n",
       "    </tr>\n",
       "    <tr>\n",
       "      <th>6</th>\n",
       "      <td>6</td>\n",
       "      <td>18.956009</td>\n",
       "    </tr>\n",
       "    <tr>\n",
       "      <th>7</th>\n",
       "      <td>7</td>\n",
       "      <td>12.694049</td>\n",
       "    </tr>\n",
       "    <tr>\n",
       "      <th>8</th>\n",
       "      <td>8</td>\n",
       "      <td>14.569012</td>\n",
       "    </tr>\n",
       "    <tr>\n",
       "      <th>9</th>\n",
       "      <td>9</td>\n",
       "      <td>13.186311</td>\n",
       "    </tr>\n",
       "    <tr>\n",
       "      <th>10</th>\n",
       "      <td>10</td>\n",
       "      <td>15.632825</td>\n",
       "    </tr>\n",
       "    <tr>\n",
       "      <th>11</th>\n",
       "      <td>11</td>\n",
       "      <td>16.597741</td>\n",
       "    </tr>\n",
       "    <tr>\n",
       "      <th>12</th>\n",
       "      <td>12</td>\n",
       "      <td>17.347499</td>\n",
       "    </tr>\n",
       "    <tr>\n",
       "      <th>13</th>\n",
       "      <td>13</td>\n",
       "      <td>17.789930</td>\n",
       "    </tr>\n",
       "    <tr>\n",
       "      <th>14</th>\n",
       "      <td>14</td>\n",
       "      <td>11.972687</td>\n",
       "    </tr>\n",
       "    <tr>\n",
       "      <th>15</th>\n",
       "      <td>15</td>\n",
       "      <td>14.308986</td>\n",
       "    </tr>\n",
       "    <tr>\n",
       "      <th>16</th>\n",
       "      <td>16</td>\n",
       "      <td>14.193402</td>\n",
       "    </tr>\n",
       "    <tr>\n",
       "      <th>17</th>\n",
       "      <td>17</td>\n",
       "      <td>14.588086</td>\n",
       "    </tr>\n",
       "    <tr>\n",
       "      <th>18</th>\n",
       "      <td>18</td>\n",
       "      <td>16.700536</td>\n",
       "    </tr>\n",
       "    <tr>\n",
       "      <th>19</th>\n",
       "      <td>19</td>\n",
       "      <td>17.831276</td>\n",
       "    </tr>\n",
       "  </tbody>\n",
       "</table>\n",
       "</div>"
      ],
      "text/plain": [
       "    id      sales\n",
       "0    0  12.021048\n",
       "1    1  13.694523\n",
       "2    2  14.165316\n",
       "3    3  14.962911\n",
       "4    4  16.778482\n",
       "5    5  17.351811\n",
       "6    6  18.956009\n",
       "7    7  12.694049\n",
       "8    8  14.569012\n",
       "9    9  13.186311\n",
       "10  10  15.632825\n",
       "11  11  16.597741\n",
       "12  12  17.347499\n",
       "13  13  17.789930\n",
       "14  14  11.972687\n",
       "15  15  14.308986\n",
       "16  16  14.193402\n",
       "17  17  14.588086\n",
       "18  18  16.700536\n",
       "19  19  17.831276"
      ]
     },
     "execution_count": 19,
     "metadata": {},
     "output_type": "execute_result"
    }
   ],
   "source": [
    "submission_df = test.loc[:, ['id', 'sales']]\n",
    "submission_df['sales'] = np.expm1(test_preds)\n",
    "submission_df['id'] = submission_df.id.astype(int)\n",
    "\n",
    "submission_df.to_csv('submission.csv', index=False)\n",
    "submission_df.head(20)"
   ]
  },
  {
   "cell_type": "code",
   "execution_count": null,
   "id": "1fe9fa34",
   "metadata": {
    "papermill": {
     "duration": 0.091851,
     "end_time": "2022-02-12T00:28:57.673528",
     "exception": false,
     "start_time": "2022-02-12T00:28:57.581677",
     "status": "completed"
    },
    "tags": []
   },
   "outputs": [],
   "source": []
  },
  {
   "cell_type": "code",
   "execution_count": null,
   "id": "77f28e68",
   "metadata": {
    "papermill": {
     "duration": 0.092785,
     "end_time": "2022-02-12T00:28:57.858961",
     "exception": false,
     "start_time": "2022-02-12T00:28:57.766176",
     "status": "completed"
    },
    "tags": []
   },
   "outputs": [],
   "source": []
  }
 ],
 "metadata": {
  "kernelspec": {
   "display_name": "Python 3",
   "language": "python",
   "name": "python3"
  },
  "language_info": {
   "codemirror_mode": {
    "name": "ipython",
    "version": 3
   },
   "file_extension": ".py",
   "mimetype": "text/x-python",
   "name": "python",
   "nbconvert_exporter": "python",
   "pygments_lexer": "ipython3",
   "version": "3.7.12"
  },
  "papermill": {
   "default_parameters": {},
   "duration": 2531.840036,
   "end_time": "2022-02-12T00:28:58.869027",
   "environment_variables": {},
   "exception": null,
   "input_path": "__notebook__.ipynb",
   "output_path": "__notebook__.ipynb",
   "parameters": {},
   "start_time": "2022-02-11T23:46:47.028991",
   "version": "2.3.3"
  }
 },
 "nbformat": 4,
 "nbformat_minor": 5
}
